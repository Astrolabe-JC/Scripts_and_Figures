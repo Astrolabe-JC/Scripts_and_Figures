{
 "cells": [
  {
   "cell_type": "code",
   "execution_count": null,
   "id": "bd1482b7",
   "metadata": {},
   "outputs": [],
   "source": [
    "## Module import\n",
    "import xarray as xr\n",
    "import numpy as np\n",
    "import matplotlib.pyplot as plt\n",
    "import pandas as pd\n",
    "import cartopy.crs as ccrs\n",
    "import seaborn as sns\n",
    "import cmocean as cm\n",
    "from datetime import datetime, timedelta\n",
    "import seaborn as sns"
   ]
  },
  {
   "cell_type": "markdown",
   "id": "815c4f75",
   "metadata": {},
   "source": [
    "## IPSL"
   ]
  },
  {
   "cell_type": "code",
   "execution_count": null,
   "id": "b4e08fb5",
   "metadata": {},
   "outputs": [],
   "source": [
    "## Open files\n",
    "\n",
    "# profils\n",
    "netCDF_Profil_Amundsen = '/Users/jcaillet/Documents/Elmer/CMIP6/FIGURES/Rank_profil_Amundsen.nc'\n",
    "PAmundsen = xr.open_mfdataset(netCDF_Profil_Amundsen)\n",
    "netCDF_Profil_Dotson = '/Users/jcaillet/Documents/Elmer/CMIP6/FIGURES/Rank_profil_D.nc'\n",
    "PDotson = xr.open_mfdataset(netCDF_Profil_Dotson)\n",
    "netCDF_Profil_PineI = '/Users/jcaillet/Documents/Elmer/CMIP6/FIGURES/Rank_profil_PI.nc'\n",
    "PPineI = xr.open_mfdataset(netCDF_Profil_PineI)\n",
    "\n",
    "# index\n",
    "netCDF_SAM = '/Users/jcaillet/Documents/Elmer/CMIP6/FIGURES/Rank_SAM.nc'\n",
    "SAM = xr.open_mfdataset(netCDF_SAM)\n",
    "netCDF_TPI1 = '/Users/jcaillet/Documents/Elmer/CMIP6/FIGURES/Rank_TPI_18542014.nc'\n",
    "TPI1 = xr.open_mfdataset(netCDF_TPI1)\n",
    "netCDF_TPI2 = '/Users/jcaillet/Documents/Elmer/CMIP6/FIGURES/Rank_TPI.nc'\n",
    "TPI2 = xr.open_mfdataset(netCDF_TPI2)\n",
    "\n",
    "# warm period\n",
    "netCDF_warm_period = '/Users/jcaillet/Documents/Elmer/CMIP6/FIGURES/Rank_warm_period.nc'\n",
    "PWarm = xr.open_mfdataset(netCDF_warm_period)\n",
    "\n",
    "# seaice\n",
    "netCDF_seaice = '/Users/jcaillet/Documents/Elmer/CMIP6/FIGURES/Rank_seaice.nc'\n",
    "Seaice = xr.open_mfdataset(netCDF_seaice)\n",
    "\n",
    "# SMB \n",
    "netCDF_SMB = '/Users/jcaillet/Documents/Elmer/CMIP6/FIGURES/Rank_SMB.nc'\n",
    "SMB = xr.open_mfdataset(netCDF_SMB)"
   ]
  },
  {
   "cell_type": "code",
   "execution_count": null,
   "id": "3ca720d3",
   "metadata": {},
   "outputs": [],
   "source": [
    "num = np.arange(1,11,1)\n",
    "members = np.arange(1,34,1)\n",
    "Index = xr.Dataset(data_vars = {'rank' : (('num','members'), np.ones((num.size, members.size))),  \n",
    "                                'name' : (('num'), ['RMSE mean T profil Dotson', 'RMSE std T profil Dotson', 'RMSE mean T profil PineIsland', 'RMSE std T profil PineIsland', 'Trend SAM', 'Taylor Diagram SAM', 'Taylor Diagram TPI', 'Warm period consistance', 'RMSE sea-ice trend', 'RMSE SMB']),},\n",
    "                     coords = {'num' : (('num'), num), 'members' : (('members'), members),})  "
   ]
  },
  {
   "cell_type": "code",
   "execution_count": null,
   "id": "0b746f19",
   "metadata": {},
   "outputs": [],
   "source": [
    "Index['rank'][0,:] = PDotson['class_mean'].values\n",
    "Index['rank'][1,:] = PDotson['class_std'].values\n",
    "Index['rank'][2,:] = PPineI['class_mean'].values\n",
    "Index['rank'][3,:] = PPineI['class_std'].values\n",
    "Index['rank'][4,:] = SAM['class_trend_Mar'].values\n",
    "Index['rank'][5,:] = SAM['rank'].values\n",
    "Index['rank'][6,:] = TPI2['rank'].values\n",
    "Index['rank'][7,:] = PWarm['rank'].values\n",
    "Index['rank'][8,:] = Seaice['rank'].values\n",
    "Index['rank'][9,:] = SMB['class_mean'].values"
   ]
  },
  {
   "cell_type": "code",
   "execution_count": null,
   "id": "82c2b9e2",
   "metadata": {},
   "outputs": [],
   "source": [
    "Index_mean = Index['rank'].mean('num')\n",
    "Index_mean['rank_final'] = Index_mean.rank('members')\n",
    "\n",
    "A = np.array(Index_mean['rank_final'])\n",
    "A = A.astype(int)"
   ]
  },
  {
   "cell_type": "markdown",
   "id": "8ae9cadd",
   "metadata": {},
   "source": [
    "## UKESM"
   ]
  },
  {
   "cell_type": "code",
   "execution_count": null,
   "id": "ac2691d6",
   "metadata": {},
   "outputs": [],
   "source": [
    "## Open files\n",
    "\n",
    "# profils\n",
    "netCDF_Profil_Dotson = '/Users/jcaillet/Documents/Elmer/CMIP6/FIGURES/Rank_profil_UK_D.nc'\n",
    "PDotson = xr.open_mfdataset(netCDF_Profil_Dotson)\n",
    "netCDF_Profil_PineI = '/Users/jcaillet/Documents/Elmer/CMIP6/FIGURES/Rank_profil_UK_PI.nc'\n",
    "PPineI = xr.open_mfdataset(netCDF_Profil_PineI)\n",
    "\n",
    "# index\n",
    "netCDF_SAM = '/Users/jcaillet/Documents/Elmer/CMIP6/FIGURES/Rank_SAM_UK.nc'\n",
    "SAM = xr.open_mfdataset(netCDF_SAM)\n",
    "netCDF_TPI2 = '/Users/jcaillet/Documents/Elmer/CMIP6/FIGURES/Rank_UK_TPI.nc'\n",
    "TPI2 = xr.open_mfdataset(netCDF_TPI2)\n",
    "\n",
    "# warm period\n",
    "netCDF_warm_period = '/Users/jcaillet/Documents/Elmer/CMIP6/FIGURES/warm_period_UK.nc'\n",
    "PWarm = xr.open_mfdataset(netCDF_warm_period)\n",
    "\n",
    "# seaice\n",
    "netCDF_seaice = '/Users/jcaillet/Documents/Elmer/CMIP6/FIGURES/Rank_seaice_UKESM.nc'\n",
    "Seaice = xr.open_mfdataset(netCDF_seaice)\n",
    "\n",
    "# SMB \n",
    "netCDF_SMB = '/Users/jcaillet/Documents/Elmer/CMIP6/FIGURES/Rank_UKESM_SMB.nc'\n",
    "SMB = xr.open_mfdataset(netCDF_SMB)"
   ]
  },
  {
   "cell_type": "code",
   "execution_count": null,
   "id": "0ea4516f",
   "metadata": {},
   "outputs": [],
   "source": [
    "num = np.arange(1,11,1)\n",
    "members = np.array([1, 2, 3, 4, 5, 6, 7, 8, 9, 10, 11, 12, 16, 17, 18, 19])\n",
    "Index1 = xr.Dataset(data_vars = {'rank' : (('num','members'), np.ones((num.size, members.size))),  \n",
    "                                'name' : (('num'), ['RMSE mean T profil Dotson', 'RMSE std T profil Dotson', 'RMSE mean T profil PineIsland', 'RMSE std T profil PineIsland', 'Trend SAM', 'Taylor Diagram SAM', 'Taylor Diagram TPI', 'Warm period consistance', 'RMSE sea-ice trend', 'RMSE SMB']),},\n",
    "                     coords = {'num' : (('num'), num), 'members' : (('members'), members),})  "
   ]
  },
  {
   "cell_type": "code",
   "execution_count": null,
   "id": "131e9553",
   "metadata": {},
   "outputs": [],
   "source": [
    "Index1['rank'][0,:] = PDotson['class_mean'].values\n",
    "Index1['rank'][1,:] = PDotson['class_std'].values\n",
    "Index1['rank'][2,:] = PPineI['class_mean'].values\n",
    "Index1['rank'][3,:] = PPineI['class_std'].values\n",
    "Index1['rank'][4,:] = SAM['class_trend_Mar'].values\n",
    "Index1['rank'][5,:] = SAM['rank'].values\n",
    "Index1['rank'][6,:] = TPI2['rank'].values\n",
    "Index1['rank'][7,:] = PWarm['rank'].values\n",
    "Index1['rank'][8,:] = Seaice['rank'].values\n",
    "Index1['rank'][9,:] = SMB['class_mean'].values"
   ]
  },
  {
   "cell_type": "code",
   "execution_count": null,
   "id": "0a56453c",
   "metadata": {},
   "outputs": [],
   "source": [
    "Index1_mean = Index1['rank'].mean('num')\n",
    "Index1_mean['rank_final'] = Index1_mean.rank('members')\n",
    "\n",
    "A1 = np.array(Index1_mean['rank_final'])\n",
    "A1 = A1.astype(int)"
   ]
  },
  {
   "cell_type": "markdown",
   "id": "67c1d59e",
   "metadata": {},
   "source": [
    "## FIGURE"
   ]
  },
  {
   "cell_type": "code",
   "execution_count": null,
   "id": "529851a6",
   "metadata": {},
   "outputs": [],
   "source": [
    "AA=np.arange(0,16,1)\n",
    "members1 = np.array([1, 2, 3, 4, 5, 6, 7, 8, 9, 10, 11, 12, 16, 17, 18, 19])\n",
    "num1 = np.arange(1,11,1)\n",
    "num = np.arange(1,11,1)\n",
    "members = np.arange(1,34,1)\n",
    "\n",
    "fig, axs = plt.subplots(2, 1,figsize=(10,6))\n",
    "# IPSL\n",
    "ax0 = axs[0].imshow(Index['rank'], cmap=cm.cm.matter, vmin=1, vmax=33)\n",
    "plt.figtext(0.55, 0.96, 'global rank', horizontalalignment='center', fontweight=\"bold\", color=\"blue\")\n",
    "axs[0].set_yticks(num-1)\n",
    "axs[0].set_yticklabels(np.array(Index['name']))\n",
    "axs[0].set_xticks(members-1)\n",
    "axs[0].set_xticklabels(members)\n",
    "axs[0].set_xlabel('members')\n",
    "\n",
    "ax2 = axs[0].secondary_xaxis('top')\n",
    "ax2.set_xticks(np.arange(0,33,1))\n",
    "ax2.set_xticklabels(A, color ='blue', fontweight=\"bold\")\n",
    "\n",
    "# UKESM\n",
    "ax1 = axs[1].imshow(Index1['rank'], cmap=cm.cm.matter, vmin=1, vmax=16)\n",
    "axs[1].set_yticks(num1-1)\n",
    "axs[1].set_yticklabels(np.array(Index1['name']))\n",
    "axs[1].set_xticks(AA)\n",
    "axs[1].set_xticklabels(members1)\n",
    "axs[1].set_xlabel('members')\n",
    "\n",
    "ax3 = axs[1].secondary_xaxis('top')\n",
    "ax3.set_xticks(np.arange(0,16,1))\n",
    "ax3.set_xticklabels(A1, color ='blue', fontweight=\"bold\")\n",
    "\n",
    "#legend\n",
    "plt.tight_layout()\n",
    "cb_ax = fig.add_axes([0.92, 0.57, 0.01, 0.35])\n",
    "cbar = fig.colorbar(ax0, cax=cb_ax, extend='both',orientation='vertical')\n",
    "cbar.ax.set_ylabel('rank - IPSL-CM6A-LR');\n",
    "\n",
    "cb_ax1 = fig.add_axes([0.92, 0.10, 0.01, 0.35])\n",
    "cbar1 = fig.colorbar(ax1, cax=cb_ax1, extend='both',orientation='vertical', ticks=[5, 10, 15])\n",
    "cbar1.ax.set_ylabel('rank - UKESM1-0-LL');\n",
    "\n",
    "#save\n",
    "plt.tight_layout(rect=[0.02, 0, 0.94, 0.98])\n",
    "fig.savefig('/Users/jcaillet/Documents/Elmer/CMIP6/FIGURES/index_bis.pdf')"
   ]
  }
 ],
 "metadata": {
  "kernelspec": {
   "display_name": "Python 3 (ipykernel)",
   "language": "python",
   "name": "python3"
  },
  "language_info": {
   "codemirror_mode": {
    "name": "ipython",
    "version": 3
   },
   "file_extension": ".py",
   "mimetype": "text/x-python",
   "name": "python",
   "nbconvert_exporter": "python",
   "pygments_lexer": "ipython3",
   "version": "3.9.13"
  }
 },
 "nbformat": 4,
 "nbformat_minor": 5
}
