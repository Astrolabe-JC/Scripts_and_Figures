{
 "cells": [
  {
   "cell_type": "code",
   "execution_count": 1,
   "id": "e24afe68",
   "metadata": {},
   "outputs": [],
   "source": [
    "## charger env_ISMIP6 ou env_MIP"
   ]
  },
  {
   "cell_type": "code",
   "execution_count": 4,
   "id": "f70ceb8a",
   "metadata": {},
   "outputs": [],
   "source": [
    "# module import\n",
    "import xarray as xr\n",
    "import numpy as np\n",
    "import matplotlib.pyplot as plt\n",
    "from scipy.interpolate import griddata\n",
    "import matplotlib.tri as tri\n",
    "import cartopy.crs as ccrs\n",
    "import pyproj\n",
    "import matplotlib.ticker as mticker\n",
    "from cartopy.mpl.ticker import LongitudeFormatter, LatitudeFormatter\n",
    "import matplotlib.path as mpath\n",
    "import seaborn as sns\n",
    "import datetime\n",
    "import cftime\n",
    "from matplotlib import gridspec\n",
    "import cartopy.feature as cft\n",
    "import pandas as pd\n",
    "import string\n",
    "import cmocean as cm\n",
    "import math\n",
    "import proplot as pplt\n",
    "import xesmf as xe\n",
    "import netCDF4 as nc\n",
    "from matplotlib.offsetbox import TextArea, DrawingArea, OffsetImage, AnnotationBbox\n",
    "import matplotlib.image as mpimg"
   ]
  },
  {
   "cell_type": "markdown",
   "id": "1246b1c6",
   "metadata": {},
   "source": [
    "### data for calculation of SLE\n",
    "* Methods used is similar to Goelzer et al. (2020)\n",
    "* Area of ocean is from Gregory et al. (2019) (3.625e14 m2)\n",
    "* rho_ice = 917 kg.m-3 (as Elmer ISMIP6 configuration)\n",
    "* rho_ocean = 1028 kg.m-3 (as Elmer ISMIP6 configuration)"
   ]
  },
  {
   "cell_type": "code",
   "execution_count": 3,
   "id": "162a52f4",
   "metadata": {},
   "outputs": [],
   "source": [
    "# constant\n",
    "A_ocean = 3.625e14 # m2\n",
    "rho_ice = 917 # kg.m-3\n",
    "rho_ocean = 1028 # kg.m-3\n",
    "rho_water = 1000 # kg.m-3\n",
    "\n",
    "# conversion kg.m-2.s-1 to kg.yr-1\n",
    "fac = 4*1e3 * 4*1e3 * 86400 * 365"
   ]
  },
  {
   "cell_type": "markdown",
   "id": "79821db2",
   "metadata": {},
   "source": [
    "## UKESM"
   ]
  },
  {
   "cell_type": "markdown",
   "id": "d94cef39",
   "metadata": {},
   "source": [
    "### atmosphere"
   ]
  },
  {
   "cell_type": "code",
   "execution_count": 40,
   "id": "5fcccce4",
   "metadata": {},
   "outputs": [],
   "source": [
    "# Open data \n",
    "netCDF_file = '/Users/jcaillet/Documents/Elmer/CMIP6/DATA/UKESM/MAR-UKESM1-0-LL-r10i1p1f2_asmb_2015-2100_ssp245_regrid_04000m_FROM_UKESM1-0-LL-r1i1p1f2-ssp245.nc'\n",
    "ATMOU = xr.open_mfdataset(netCDF_file, decode_times=False)\n",
    "\n",
    "netCDF_filemask = '/Users/jcaillet/Documents/Elmer/DATA/BASINS/Mask_SubRegions_IMBIE.nc'\n",
    "maskS = xr.open_mfdataset(netCDF_filemask)\n",
    "\n",
    "netCDF_filemask = '/Users/jcaillet/Documents/Elmer/DATA/BASINS/Mask_Regions_IMBIE.nc'\n",
    "maskR = xr.open_mfdataset(netCDF_filemask)\n",
    "\n",
    "netCDF_ini = '/Users/jcaillet/Documents/Elmer/CMIP6/DATA/RCM_ice_regrid_04000m.nc2'\n",
    "ini = xr.open_mfdataset(netCDF_ini)\n",
    "\n",
    "# available members\n",
    "#membu = np.array([1,2,3,4,5,6,7,8,9,10,11,12,13,16,17,18,19])\n",
    "membu = np.array([1,2,4,8])\n",
    "# bassins\n",
    "subbas = np.arange(1,19,1)\n",
    "bas = np.arange(1,4,1)\n",
    "basf = np.arange(0,4,1)\n",
    "\n",
    "# interpolation of mask on the same grid as MAR data\n",
    "ATMOU['x']=ini['x']\n",
    "ATMOU['y']=ini['y']\n",
    "maskS_interp = maskS.interp_like(ATMOU)\n",
    "maskR_interp = maskR.interp_like(ATMOU)\n",
    "\n",
    "#initialisation\n",
    "t = np.arange(2015,2101,1)\n",
    "FINAL_FILEAU = xr.Dataset(data_vars=dict(time_ini=([\"time\"], t)), coords=dict(time=t))\n",
    "\n",
    "#boucle sur membres\n",
    "for j in membu :\n",
    "    data_file = f'/Users/jcaillet/Documents/Elmer/CMIP6/DATA/UKESM/MAR-UKESM1-0-LL-r{j}i1p1f*_asmb_2015-2100_ssp245_regrid_04000m_FROM_UKESM1-0-LL-r1i1p1f2-ssp245.nc'\n",
    "    RES = xr.open_mfdataset(data_file, decode_times=False)\n",
    "    RES['time']=FINAL_FILEAU['time']\n",
    "    # boucle sur bassins\n",
    "    for i in subbas:\n",
    "        FINAL_FILEAU[f'SLEA_SB{i}_{j}'] = (RES['asmb'] * fac * ini['af2'] * ini['GROUND']).where(maskS['SubBasins_extrap']==i).sum(['x','y'])\n",
    "        FINAL_FILEAU[f'SLEA_SB{i}_{j}'] = -(np.cumsum(FINAL_FILEAU[f'SLEA_SB{i}_{j}']) * 1 / (A_ocean * rho_water))\n",
    "    for i in bas:\n",
    "        FINAL_FILEAU[f'SLEA_B{i}_{j}'] = (RES['asmb'] * fac * ini['af2'] * ini['GROUND']).where(maskR['Basins_extrap']==i).sum(['x','y'])\n",
    "        FINAL_FILEAU[f'SLEA_B{i}_{j}'] = -(np.cumsum(FINAL_FILEAU[f'SLEA_B{i}_{j}']) * 1 / (A_ocean * rho_water))       \n",
    "    for i in np.array([0]):\n",
    "        #projection\n",
    "        FINAL_FILEAU[f'SLEA_B{i}_{j}'] = (RES['asmb'] * fac * ini['af2'] * ini['GROUND']).sum(['x','y'])\n",
    "        FINAL_FILEAU[f'SLEA_B{i}_{j}'] = -(np.cumsum(FINAL_FILEAU[f'SLEA_B{i}_{j}']) * 1 / (A_ocean * rho_water))\n",
    "# SLE en m !"
   ]
  },
  {
   "cell_type": "code",
   "execution_count": 23,
   "id": "a6cf9e72",
   "metadata": {},
   "outputs": [
    {
     "name": "stdout",
     "output_type": "stream",
     "text": [
      "1\n",
      "2\n",
      "3\n",
      "4\n",
      "5\n",
      "6\n",
      "7\n",
      "8\n",
      "9\n",
      "10\n",
      "11\n",
      "12\n",
      "13\n",
      "14\n",
      "15\n",
      "16\n",
      "17\n",
      "18\n"
     ]
    }
   ],
   "source": [
    "FINAL_FILEAU100 = xr.Dataset(data_vars=dict(memb=([\"member\"], membu)), coords=dict(member=membu))\n",
    "t = np.arange(2015,2101,1)\n",
    "MIN_MAXAU = xr.Dataset(data_vars=dict(time_ini=([\"time\"], t)), coords=dict(time=t))\n",
    "\n",
    "for i in subbas:\n",
    "    print(i)\n",
    "    d = {'M1': np.array(FINAL_FILEAU[f'SLEA_SB{i}_1']), 'M2': np.array(FINAL_FILEAU[f'SLEA_SB{i}_2']), 'M3': np.array(FINAL_FILEAU[f'SLEA_SB{i}_3']), 'M4': np.array(FINAL_FILEAU[f'SLEA_SB{i}_4']), 'M5': np.array(FINAL_FILEAU[f'SLEA_SB{i}_5']), 'M6': np.array(FINAL_FILEAU[f'SLEA_SB{i}_6']), 'M7': np.array(FINAL_FILEAU[f'SLEA_SB{i}_7']), 'M8': np.array(FINAL_FILEAU[f'SLEA_SB{i}_8']), 'M9': np.array(FINAL_FILEAU[f'SLEA_SB{i}_9']), 'M10': np.array(FINAL_FILEAU[f'SLEA_SB{i}_10']), 'M11': np.array(FINAL_FILEAU[f'SLEA_SB{i}_11']), 'M12': np.array(FINAL_FILEAU[f'SLEA_SB{i}_12']), 'M13': np.array(FINAL_FILEAU[f'SLEA_SB{i}_13']), 'M16': np.array(FINAL_FILEAU[f'SLEA_SB{i}_16']), 'M17': np.array(FINAL_FILEAU[f'SLEA_SB{i}_17']), 'M18': np.array(FINAL_FILEAU[f'SLEA_SB{i}_18']), 'M19': np.array(FINAL_FILEAU[f'SLEA_SB{i}_19'])}\n",
    "    df = pd.DataFrame(data=d)\n",
    "    dfmin = np.array(df.min(axis = 1))\n",
    "    dfmax = np.array(df.max(axis = 1))\n",
    "    dfmean = np.array(df.mean(axis = 1))\n",
    "    df2100 = np.array(df.iloc[85])\n",
    "    FINAL_FILEAU100[f'SLEA_SB{i}']= FINAL_FILEAU100['memb'] - FINAL_FILEAU100['memb'] + df2100\n",
    "    MIN_MAXAU[f'SLEA_SB{i}min'] = MIN_MAXAU['time_ini'] - MIN_MAXAU['time_ini'] + dfmin\n",
    "    MIN_MAXAU[f'SLEA_SB{i}max'] = MIN_MAXAU['time_ini'] - MIN_MAXAU['time_ini'] + dfmax\n",
    "    MIN_MAXAU[f'SLEA_SB{i}mean'] = MIN_MAXAU['time_ini'] - MIN_MAXAU['time_ini'] + dfmean"
   ]
  },
  {
   "cell_type": "code",
   "execution_count": 24,
   "id": "30ade87d",
   "metadata": {},
   "outputs": [
    {
     "name": "stdout",
     "output_type": "stream",
     "text": [
      "0\n",
      "1\n",
      "2\n",
      "3\n"
     ]
    }
   ],
   "source": [
    "basf = np.arange(0,4,1)\n",
    "for i in basf:\n",
    "    print(i)\n",
    "    d = {'M1': np.array(FINAL_FILEAU[f'SLEA_B{i}_1']), 'M2': np.array(FINAL_FILEAU[f'SLEA_B{i}_2']), 'M3': np.array(FINAL_FILEAU[f'SLEA_B{i}_3']), 'M4': np.array(FINAL_FILEAU[f'SLEA_B{i}_4']), 'M5': np.array(FINAL_FILEAU[f'SLEA_B{i}_5']), 'M6': np.array(FINAL_FILEAU[f'SLEA_B{i}_6']), 'M7': np.array(FINAL_FILEAU[f'SLEA_B{i}_7']), 'M8': np.array(FINAL_FILEAU[f'SLEA_B{i}_8']), 'M9': np.array(FINAL_FILEAU[f'SLEA_B{i}_9']), 'M10': np.array(FINAL_FILEAU[f'SLEA_B{i}_10']), 'M11': np.array(FINAL_FILEAU[f'SLEA_B{i}_11']), 'M12': np.array(FINAL_FILEAU[f'SLEA_B{i}_12']), 'M13': np.array(FINAL_FILEAU[f'SLEA_B{i}_13']), 'M16': np.array(FINAL_FILEAU[f'SLEA_B{i}_16']), 'M17': np.array(FINAL_FILEAU[f'SLEA_B{i}_17']), 'M18': np.array(FINAL_FILEAU[f'SLEA_B{i}_18']), 'M19': np.array(FINAL_FILEAU[f'SLEA_B{i}_19'])}\n",
    "    df = pd.DataFrame(data=d)\n",
    "    dfmin = np.array(df.min(axis = 1))\n",
    "    dfmax = np.array(df.max(axis = 1))\n",
    "    dfmean = np.array(df.mean(axis = 1))\n",
    "    df2100 = np.array(df.iloc[85])\n",
    "    FINAL_FILEAU100[f'SLEA_B{i}']= FINAL_FILEAU100['memb'] - FINAL_FILEAU100['memb'] + df2100\n",
    "    MIN_MAXAU[f'SLEA_B{i}min'] = MIN_MAXAU['time_ini'] - MIN_MAXAU['time_ini'] + dfmin\n",
    "    MIN_MAXAU[f'SLEA_B{i}max'] = MIN_MAXAU['time_ini'] - MIN_MAXAU['time_ini'] + dfmax\n",
    "    MIN_MAXAU[f'SLEA_B{i}mean'] = MIN_MAXAU['time_ini'] - MIN_MAXAU['time_ini'] + dfmean"
   ]
  },
  {
   "cell_type": "code",
   "execution_count": 25,
   "id": "182a9248",
   "metadata": {},
   "outputs": [],
   "source": [
    "FINAL_FILEAU100.to_netcdf('/Users/jcaillet/Documents/Elmer/CMIP6/DATA/UKESM/SLE2100_ATMO_UKESM_V2.nc')\n",
    "MIN_MAXAU.to_netcdf('/Users/jcaillet/Documents/Elmer/CMIP6/DATA/UKESM/SLE_minmax_ATMO_UKESM_V2.nc')"
   ]
  },
  {
   "cell_type": "markdown",
   "id": "aca253d6",
   "metadata": {},
   "source": [
    "### ocean and both contribution"
   ]
  },
  {
   "cell_type": "code",
   "execution_count": 41,
   "id": "97c74a4d",
   "metadata": {},
   "outputs": [],
   "source": [
    "# available members\n",
    "membou = np.array([1,2,4,8])\n",
    "                  \n",
    "# bassins\n",
    "subbas = np.arange(1,19,1)\n",
    "bas = np.arange(1,4,1)                \n",
    "\n",
    "#data\n",
    "netCDF_fileINI = '/Users/jcaillet/Documents/Elmer/CMIP6/DATA/IPSL/ismip6_states_ismip6_w1-histae_002.nc'\n",
    "RESINI = xr.open_mfdataset(netCDF_fileINI)\n",
    "\n",
    "netCDF_filemask = '/Users/jcaillet/Documents/Elmer/Papier_ete/Mask_Regions_IMBIE_ElmerGrid.nc'\n",
    "mask = xr.open_mfdataset(netCDF_filemask)\n",
    "\n",
    "netCDF_filemasks = '/Users/jcaillet/Documents/Elmer/Papier_ete/Mask_SubRegions_IMBIE_ElmerGrid.nc'\n",
    "maskSS = xr.open_mfdataset(netCDF_filemasks)\n",
    "\n",
    "#initialisation\n",
    "RESINI['time']=np.arange(2006,2016,1)\n",
    "data_file = f'/Users/jcaillet/Documents/Elmer/CMIP6/DATA/UKESM/ismip6_states_ismip6_w1-ukesmm1*.nc'\n",
    "RES = xr.open_mfdataset(data_file)\n",
    "t = np.arange(2015,2101,1)\n",
    "FINAL_FILEU = xr.Dataset(data_vars=dict(time_ini=([\"time\"], t)), coords=dict(time=t))\n",
    "\n",
    "#boucle sur membres\n",
    "for j in membou:\n",
    "    data_file = f'/Users/jcaillet/Documents/Elmer/CMIP6/DATA/UKESM/ismip6_states_ismip6_w1-ukesmm{j}*.nc'\n",
    "    RES = xr.open_mfdataset(data_file)\n",
    "    RES['time'] = np.arange(2015,2101,1)\n",
    "    # boucle sur bassins\n",
    "    for i in subbas:\n",
    "        #ref\n",
    "        RESINI[f'Vaf_SB{i}'] = (RESINI['lithkaf'] * RESINI['true_cell_area']).where(maskSS['subbasins']==i).sum('nmesh2D_face')\n",
    "        RESINI[f'SLE_SB{i}'] = RESINI[f'Vaf_SB{i}'] * 1 / A_ocean * rho_ice / rho_water\n",
    "        #projection\n",
    "        FINAL_FILEU[f'Vaf_SB{i}_{j}'] = (RES['lithkaf'] * RES['true_cell_area']).where(maskSS['subbasins']==i).sum('nmesh2D_face')\n",
    "        FINAL_FILEU[f'SLEO_SB{i}_{j}'] = -((FINAL_FILEU[f'Vaf_SB{i}_{j}'] * 1 / A_ocean * rho_ice / rho_water) - RESINI[f'SLE_SB{i}'][9]) - FINAL_FILEAU[f'SLEA_SB{i}_1']\n",
    "        FINAL_FILEU[f'SLEtot_SB{i}_{j}'] = FINAL_FILEU[f'SLEO_SB{i}_{j}'] + FINAL_FILEAU[f'SLEA_SB{i}_{j}']\n",
    "    for i in bas:\n",
    "        ##ref\n",
    "        RESINI[f'Vaf_B{i}'] = (RESINI['lithkaf'] * RESINI['true_cell_area']).where(mask['basinsIM']==i).sum('nmesh2D_face')\n",
    "        RESINI[f'SLE_B{i}'] = RESINI[f'Vaf_B{i}'] * 1 / A_ocean * rho_ice / rho_water\n",
    "        ##projection\n",
    "        ### volume above flotation\n",
    "        FINAL_FILEU[f'Vaf_B{i}_{j}'] = (RES['lithkaf'] * RES['true_cell_area']).where(mask['basinsIM']==i).sum('nmesh2D_face')\n",
    "        ### SLE ocean (total - atmospheric member1)\n",
    "        FINAL_FILEU[f'SLEO_B{i}_{j}'] = -((FINAL_FILEU[f'Vaf_B{i}_{j}'] * 1 / A_ocean * rho_ice / rho_water) - RESINI[f'SLE_B{i}'][9]) - FINAL_FILEAU[f'SLEA_B{i}_1']\n",
    "        ### SLE total (SLE ocean + SLE atmo for the same member)\n",
    "        FINAL_FILEU[f'SLEtot_B{i}_{j}'] = FINAL_FILEU[f'SLEO_B{i}_{j}'] + FINAL_FILEAU[f'SLEA_B{i}_{j}']\n",
    "    for i in np.array([0]):\n",
    "        #ref\n",
    "        RESINI[f'Vaf_B{i}'] = (RESINI['lithkaf'] * RESINI['true_cell_area']).sum('nmesh2D_face')\n",
    "        RESINI[f'SLE_B{i}'] = RESINI[f'Vaf_B{i}'] * 1 / A_ocean * rho_ice / rho_water\n",
    "        #projection\n",
    "        FINAL_FILEU[f'Vaf_B{i}_{j}'] = (RES['lithkaf'] * RES['true_cell_area']).sum('nmesh2D_face')\n",
    "        FINAL_FILEU[f'SLEO_B{i}_{j}'] = -((FINAL_FILEU[f'Vaf_B{i}_{j}'] * 1 / A_ocean * rho_ice / rho_water) - RESINI[f'SLE_B{i}'][9]) - FINAL_FILEAU[f'SLEA_B{i}_1']\n",
    "        FINAL_FILEU[f'SLEtot_B{i}_{j}'] = FINAL_FILEU[f'SLEO_B{i}_{j}'] + FINAL_FILEAU[f'SLEA_B{i}_{j}']"
   ]
  },
  {
   "cell_type": "code",
   "execution_count": 180,
   "id": "6c8a8f3a",
   "metadata": {},
   "outputs": [
    {
     "name": "stdout",
     "output_type": "stream",
     "text": [
      "1\n",
      "2\n",
      "3\n",
      "4\n",
      "5\n",
      "6\n",
      "7\n",
      "8\n",
      "9\n",
      "10\n",
      "11\n",
      "12\n",
      "13\n",
      "14\n",
      "15\n",
      "16\n",
      "17\n",
      "18\n"
     ]
    }
   ],
   "source": [
    "FINAL_FILETU100 = xr.Dataset(data_vars=dict(memb=([\"member\"], membou)), coords=dict(member=membou))\n",
    "t = np.arange(2015,2101,1)\n",
    "MIN_MAXTU = xr.Dataset(data_vars=dict(time_ini=([\"time\"], t)), coords=dict(time=t))\n",
    "\n",
    "for i in subbas:\n",
    "    print(i)\n",
    "    d = {'M1': np.array(FINAL_FILEU[f'SLEtot_SB{i}_1']), 'M2': np.array(FINAL_FILEU[f'SLEtot_SB{i}_2']), 'M4': np.array(FINAL_FILEU[f'SLEtot_SB{i}_4']), 'M8': np.array(FINAL_FILEU[f'SLEtot_SB{i}_8'])}\n",
    "    df = pd.DataFrame(data=d)\n",
    "    dfmin = np.array(df.min(axis = 1))\n",
    "    dfmax = np.array(df.max(axis = 1))\n",
    "    dfmean = np.array(df.mean(axis = 1))\n",
    "    df2100 = np.array(df.iloc[85])\n",
    "    FINAL_FILETU100[f'SLEtot_SB{i}']= FINAL_FILETU100['memb'] - FINAL_FILETU100['memb'] + df2100\n",
    "    MIN_MAXTU[f'SLEtot_SB{i}min'] = MIN_MAXTU['time_ini'] - MIN_MAXTU['time_ini'] + dfmin\n",
    "    MIN_MAXTU[f'SLEtot_SB{i}max'] = MIN_MAXTU['time_ini'] - MIN_MAXTU['time_ini'] + dfmax\n",
    "    MIN_MAXTU[f'SLEtot_SB{i}mean'] = MIN_MAXTU['time_ini'] - MIN_MAXTU['time_ini'] + dfmean"
   ]
  },
  {
   "cell_type": "code",
   "execution_count": 181,
   "id": "67e7135f",
   "metadata": {},
   "outputs": [
    {
     "name": "stdout",
     "output_type": "stream",
     "text": [
      "0\n",
      "1\n",
      "2\n",
      "3\n"
     ]
    }
   ],
   "source": [
    "basf = np.arange(0,4,1)\n",
    "for i in basf:\n",
    "    print(i)\n",
    "    d = {'M1': np.array(FINAL_FILEU[f'SLEtot_B{i}_1']), 'M2': np.array(FINAL_FILEU[f'SLEtot_B{i}_2']), 'M4': np.array(FINAL_FILEU[f'SLEtot_B{i}_4']), 'M8': np.array(FINAL_FILEU[f'SLEtot_B{i}_8'])}\n",
    "    df = pd.DataFrame(data=d)\n",
    "    dfmin = np.array(df.min(axis = 1))\n",
    "    dfmax = np.array(df.max(axis = 1))\n",
    "    dfmean = np.array(df.mean(axis = 1))\n",
    "    df2100 = np.array(df.iloc[85])\n",
    "    FINAL_FILETU100[f'SLEtot_B{i}']= FINAL_FILETU100['memb'] - FINAL_FILETU100['memb'] + df2100\n",
    "    MIN_MAXTU[f'SLEtot_B{i}min'] = MIN_MAXTU['time_ini'] - MIN_MAXTU['time_ini'] + dfmin\n",
    "    MIN_MAXTU[f'SLEtot_B{i}max'] = MIN_MAXTU['time_ini'] - MIN_MAXTU['time_ini'] + dfmax\n",
    "    MIN_MAXTU[f'SLEtot_B{i}mean'] = MIN_MAXTU['time_ini'] - MIN_MAXTU['time_ini'] + dfmean"
   ]
  },
  {
   "cell_type": "code",
   "execution_count": 72,
   "id": "fa2aa768",
   "metadata": {},
   "outputs": [],
   "source": [
    "t = np.arange(2015,2101,1)\n",
    "MIN_MAXTU = xr.Dataset(data_vars=dict(time_ini=([\"time\"], t)), coords=dict(time=t))\n",
    "\n",
    "d = {'M1': np.array(FINAL_FILEU[f'SLEtot_B0_1']), 'M2': np.array(FINAL_FILEU[f'SLEtot_B0_2']), 'M4': np.array(FINAL_FILEU[f'SLEtot_B0_4']), 'M8': np.array(FINAL_FILEU[f'SLEtot_B0_8'])}\n",
    "df = pd.DataFrame(data=d)\n",
    "dfstd = np.array(df.std(axis = 1))\n",
    "dfmean = np.array(df.mean(axis = 1))\n",
    "MIN_MAXTU[f'SLEtot_B0std'] = MIN_MAXTU['time_ini'] - MIN_MAXTU['time_ini'] + dfstd\n",
    "MIN_MAXTU[f'SLEtot_B0mean'] = MIN_MAXTU['time_ini'] - MIN_MAXTU['time_ini'] + dfmean"
   ]
  },
  {
   "cell_type": "code",
   "execution_count": 182,
   "id": "1bdb7397",
   "metadata": {},
   "outputs": [],
   "source": [
    "FINAL_FILETU100.to_netcdf('/Users/jcaillet/Documents/Elmer/CMIP6/DATA/UKESM/SLE2100_TOT_UKESM_V3.nc')\n",
    "MIN_MAXTU.to_netcdf('/Users/jcaillet/Documents/Elmer/CMIP6/DATA/UKESM/SLE_minmax_TOT_UKESM_V3.nc')"
   ]
  },
  {
   "cell_type": "code",
   "execution_count": 183,
   "id": "1f8a960e",
   "metadata": {},
   "outputs": [
    {
     "name": "stdout",
     "output_type": "stream",
     "text": [
      "1\n",
      "2\n",
      "3\n",
      "4\n",
      "5\n",
      "6\n",
      "7\n",
      "8\n",
      "9\n",
      "10\n",
      "11\n",
      "12\n",
      "13\n",
      "14\n",
      "15\n",
      "16\n",
      "17\n",
      "18\n"
     ]
    }
   ],
   "source": [
    "FINAL_FILEOU100 = xr.Dataset(data_vars=dict(memb=([\"member\"], membou)), coords=dict(member=membou))\n",
    "t = np.arange(2015,2101,1)\n",
    "MIN_MAXOU = xr.Dataset(data_vars=dict(time_ini=([\"time\"], t)), coords=dict(time=t))\n",
    "\n",
    "for i in subbas:\n",
    "    print(i)\n",
    "    d = {'M1': np.array(FINAL_FILEU[f'SLEO_SB{i}_1']), 'M2': np.array(FINAL_FILEU[f'SLEO_SB{i}_2']), 'M4': np.array(FINAL_FILEU[f'SLEO_SB{i}_4']), 'M8': np.array(FINAL_FILEU[f'SLEO_SB{i}_8'])}\n",
    "    df = pd.DataFrame(data=d)\n",
    "    dfmin = np.array(df.min(axis = 1))\n",
    "    dfmax = np.array(df.max(axis = 1))\n",
    "    dfmean = np.array(df.mean(axis = 1))\n",
    "    df2100 = np.array(df.iloc[85])\n",
    "    FINAL_FILEOU100[f'SLEO_SB{i}']= FINAL_FILEOU100['memb'] - FINAL_FILEOU100['memb'] + df2100\n",
    "    MIN_MAXOU[f'SLEO_SB{i}min'] = MIN_MAXOU['time_ini'] - MIN_MAXOU['time_ini'] + dfmin\n",
    "    MIN_MAXOU[f'SLEO_SB{i}max'] = MIN_MAXOU['time_ini'] - MIN_MAXOU['time_ini'] + dfmax\n",
    "    MIN_MAXOU[f'SLEO_SB{i}mean'] = MIN_MAXOU['time_ini'] - MIN_MAXOU['time_ini'] + dfmean"
   ]
  },
  {
   "cell_type": "code",
   "execution_count": 184,
   "id": "9f21767a",
   "metadata": {},
   "outputs": [
    {
     "name": "stdout",
     "output_type": "stream",
     "text": [
      "0\n",
      "1\n",
      "2\n",
      "3\n"
     ]
    }
   ],
   "source": [
    "\n",
    "for i in basf:\n",
    "    print(i)\n",
    "    d = {'M1': np.array(FINAL_FILEU[f'SLEO_B{i}_1']), 'M2': np.array(FINAL_FILEU[f'SLEO_B{i}_2']), 'M4': np.array(FINAL_FILEU[f'SLEO_B{i}_4']), 'M8': np.array(FINAL_FILEU[f'SLEO_B{i}_8'])}\n",
    "    df = pd.DataFrame(data=d)\n",
    "    dfmin = np.array(df.min(axis = 1))\n",
    "    dfmax = np.array(df.max(axis = 1))\n",
    "    dfmean = np.array(df.mean(axis = 1))\n",
    "    df2100 = np.array(df.iloc[85])\n",
    "    FINAL_FILEOU100[f'SLEO_B{i}']= FINAL_FILEOU100['memb'] - FINAL_FILEOU100['memb'] + df2100\n",
    "    MIN_MAXOU[f'SLEO_B{i}min'] = MIN_MAXOU['time_ini'] - MIN_MAXOU['time_ini'] + dfmin\n",
    "    MIN_MAXOU[f'SLEO_B{i}max'] = MIN_MAXOU['time_ini'] - MIN_MAXOU['time_ini'] + dfmax\n",
    "    MIN_MAXOU[f'SLEO_B{i}mean'] = MIN_MAXOU['time_ini'] - MIN_MAXOU['time_ini'] + dfmean"
   ]
  },
  {
   "cell_type": "code",
   "execution_count": 185,
   "id": "384be770",
   "metadata": {},
   "outputs": [],
   "source": [
    "FINAL_FILEOU100.to_netcdf('/Users/jcaillet/Documents/Elmer/CMIP6/DATA/UKESM/SLE2100_OC_UKESM_V3.nc')\n",
    "MIN_MAXOU.to_netcdf('/Users/jcaillet/Documents/Elmer/CMIP6/DATA/UKESM/SLE_minmax_OC_UKESM_V3.nc')"
   ]
  },
  {
   "cell_type": "markdown",
   "id": "b8a124f6",
   "metadata": {},
   "source": [
    "## IPSL"
   ]
  },
  {
   "cell_type": "markdown",
   "id": "f7c82059",
   "metadata": {},
   "source": [
    "### atmospheric"
   ]
  },
  {
   "cell_type": "code",
   "execution_count": 75,
   "id": "6c4c194f",
   "metadata": {},
   "outputs": [],
   "source": [
    "# Open data \n",
    "netCDF_file = '/Users/jcaillet/Documents/Elmer/CMIP6/DATA/IPSL/MAR-IPSL-CM6A-LR-r1i1p1f1_asmb_2015-2100_ssp245_regrid_04000m_FROM_IPSL-CM6A-LR-r1i1p1f1-ssp585.nc'\n",
    "ATMOI = xr.open_mfdataset(netCDF_file, decode_times=False)\n",
    "\n",
    "netCDF_filemask = '/Users/jcaillet/Documents/Elmer/DATA/BASINS/Mask_SubRegions_IMBIE.nc'\n",
    "maskS = xr.open_mfdataset(netCDF_filemask)\n",
    "\n",
    "netCDF_filemask = '/Users/jcaillet/Documents/Elmer/DATA/BASINS/Mask_Regions_IMBIE.nc'\n",
    "maskR = xr.open_mfdataset(netCDF_filemask)\n",
    "\n",
    "netCDF_ini = '/Users/jcaillet/Documents/Elmer/CMIP6/DATA/RCM_ice_regrid_04000m.nc2'\n",
    "ini = xr.open_mfdataset(netCDF_ini)\n",
    "\n",
    "# available members\n",
    "membi = np.array([1,2,3,4,5,6,10,11,14,22,25])\n",
    "\n",
    "# bassins\n",
    "subbas = np.arange(1,19,1)\n",
    "bas = np.arange(1,4,1)\n",
    "basf = np.arange(0,4,1)\n",
    "\n",
    "# interpolation of mask on the same grid as MAR data\n",
    "ATMOI['x']=ini['x']\n",
    "ATMOI['y']=ini['y']\n",
    "maskS_interp = maskS.interp_like(ATMOI)\n",
    "maskR_interp = maskR.interp_like(ATMOI)\n",
    "\n",
    "#initialisation\n",
    "t = np.arange(2015,2101,1)\n",
    "FINAL_FILEAI = xr.Dataset(data_vars=dict(time_ini=([\"time\"], t)), coords=dict(time=t))\n",
    "\n",
    "#boucle sur membres\n",
    "for j in membi :\n",
    "    data_file = f'/Users/jcaillet/Documents/Elmer/CMIP6/DATA/IPSL/MAR-IPSL-CM6A-LR-r{j}i1p1f*_asmb_2015-2100_ssp245_regrid_04000m_FROM_IPSL-CM6A-LR-r1i1p1f1-ssp585.nc'\n",
    "    RES = xr.open_mfdataset(data_file, decode_times=False)\n",
    "    RES['time']=FINAL_FILEAI['time']\n",
    "    # boucle sur bassins\n",
    "    for i in subbas:\n",
    "        FINAL_FILEAI[f'SLEA_SB{i}_{j}'] = (RES['asmb'] * fac * ini['af2'] * ini['GROUND']).where(maskS['SubBasins_extrap']==i).sum(['x','y'])\n",
    "        FINAL_FILEAI[f'SLEA_SB{i}_{j}'] = -(np.cumsum(FINAL_FILEAI[f'SLEA_SB{i}_{j}']) * 1 / (A_ocean * rho_water))\n",
    "    for i in bas:\n",
    "        FINAL_FILEAI[f'SLEA_B{i}_{j}'] = (RES['asmb'] * fac * ini['af2'] * ini['GROUND']).where(maskR['Basins_extrap']==i).sum(['x','y'])\n",
    "        FINAL_FILEAI[f'SLEA_B{i}_{j}'] = -(np.cumsum(FINAL_FILEAI[f'SLEA_B{i}_{j}']) * 1 / (A_ocean * rho_water))       \n",
    "    for i in np.array([0]):\n",
    "        #projection\n",
    "        FINAL_FILEAI[f'SLEA_B{i}_{j}'] = (RES['asmb'] * fac * ini['af2'] * ini['GROUND']).sum(['x','y'])\n",
    "        FINAL_FILEAI[f'SLEA_B{i}_{j}'] = -(np.cumsum(FINAL_FILEAI[f'SLEA_B{i}_{j}']) * 1 / (A_ocean * rho_water))\n",
    "# SLE en m !"
   ]
  },
  {
   "cell_type": "code",
   "execution_count": 27,
   "id": "f60bafe8",
   "metadata": {},
   "outputs": [
    {
     "name": "stdout",
     "output_type": "stream",
     "text": [
      "1\n",
      "2\n",
      "3\n",
      "4\n",
      "5\n",
      "6\n",
      "7\n",
      "8\n",
      "9\n",
      "10\n",
      "11\n",
      "12\n",
      "13\n",
      "14\n",
      "15\n",
      "16\n",
      "17\n",
      "18\n"
     ]
    }
   ],
   "source": [
    "FINAL_FILEAI100 = xr.Dataset(data_vars=dict(memb=([\"member\"], membi)), coords=dict(member=membi))\n",
    "t = np.arange(2015,2101,1)\n",
    "MIN_MAXAI = xr.Dataset(data_vars=dict(time_ini=([\"time\"], t)), coords=dict(time=t))\n",
    "\n",
    "for i in subbas:\n",
    "    print(i)\n",
    "    d = {'M1': np.array(FINAL_FILEAI[f'SLEA_SB{i}_1']), 'M2': np.array(FINAL_FILEAI[f'SLEA_SB{i}_2']), 'M3': np.array(FINAL_FILEAI[f'SLEA_SB{i}_3']), 'M4': np.array(FINAL_FILEAI[f'SLEA_SB{i}_4']), 'M5': np.array(FINAL_FILEAI[f'SLEA_SB{i}_5']), 'M6': np.array(FINAL_FILEAI[f'SLEA_SB{i}_6']), 'M10': np.array(FINAL_FILEAI[f'SLEA_SB{i}_10']), 'M11': np.array(FINAL_FILEAI[f'SLEA_SB{i}_11']), 'M14': np.array(FINAL_FILEAI[f'SLEA_SB{i}_14']), 'M22': np.array(FINAL_FILEAI[f'SLEA_SB{i}_22']), 'M25': np.array(FINAL_FILEAI[f'SLEA_SB{i}_25'])}\n",
    "    df = pd.DataFrame(data=d)\n",
    "    dfmin = np.array(df.min(axis = 1))\n",
    "    dfmax = np.array(df.max(axis = 1))\n",
    "    dfmean = np.array(df.mean(axis = 1))\n",
    "    df2100 = np.array(df.iloc[85])\n",
    "    FINAL_FILEAI100[f'SLEA_SB{i}']= FINAL_FILEAI100['memb'] - FINAL_FILEAI100['memb'] + df2100\n",
    "    MIN_MAXAI[f'SLEA_SB{i}min'] = MIN_MAXAI['time_ini'] - MIN_MAXAI['time_ini'] + dfmin\n",
    "    MIN_MAXAI[f'SLEA_SB{i}max'] = MIN_MAXAI['time_ini'] - MIN_MAXAI['time_ini'] + dfmax\n",
    "    MIN_MAXAI[f'SLEA_SB{i}mean'] = MIN_MAXAI['time_ini'] - MIN_MAXAI['time_ini'] + dfmean"
   ]
  },
  {
   "cell_type": "code",
   "execution_count": 28,
   "id": "b75de646",
   "metadata": {},
   "outputs": [
    {
     "name": "stdout",
     "output_type": "stream",
     "text": [
      "0\n",
      "1\n",
      "2\n",
      "3\n"
     ]
    }
   ],
   "source": [
    "basf = np.arange(0,4,1)\n",
    "for i in basf:\n",
    "    print(i)\n",
    "    d = {'M1': np.array(FINAL_FILEAI[f'SLEA_B{i}_1']), 'M2': np.array(FINAL_FILEAI[f'SLEA_B{i}_2']), 'M3': np.array(FINAL_FILEAI[f'SLEA_B{i}_3']), 'M4': np.array(FINAL_FILEAI[f'SLEA_B{i}_4']), 'M5': np.array(FINAL_FILEAI[f'SLEA_B{i}_5']), 'M6': np.array(FINAL_FILEAI[f'SLEA_B{i}_6']), 'M10': np.array(FINAL_FILEAI[f'SLEA_B{i}_10']), 'M11': np.array(FINAL_FILEAI[f'SLEA_B{i}_11']), 'M14': np.array(FINAL_FILEAI[f'SLEA_B{i}_14']), 'M22': np.array(FINAL_FILEAI[f'SLEA_B{i}_22']), 'M25': np.array(FINAL_FILEAI[f'SLEA_B{i}_25'])}\n",
    "    df = pd.DataFrame(data=d)\n",
    "    dfmin = np.array(df.min(axis = 1))\n",
    "    dfmax = np.array(df.max(axis = 1))\n",
    "    dfmean = np.array(df.mean(axis = 1))\n",
    "    df2100 = np.array(df.iloc[85])\n",
    "    FINAL_FILEAI100[f'SLEA_B{i}']= FINAL_FILEAI100['memb'] - FINAL_FILEAI100['memb'] + df2100\n",
    "    MIN_MAXAI[f'SLEA_B{i}min'] = MIN_MAXAI['time_ini'] - MIN_MAXAI['time_ini'] + dfmin\n",
    "    MIN_MAXAI[f'SLEA_B{i}max'] = MIN_MAXAI['time_ini'] - MIN_MAXAI['time_ini'] + dfmax\n",
    "    MIN_MAXAI[f'SLEA_B{i}mean'] = MIN_MAXAI['time_ini'] - MIN_MAXAI['time_ini'] + dfmean"
   ]
  },
  {
   "cell_type": "code",
   "execution_count": 29,
   "id": "cbe940e4",
   "metadata": {},
   "outputs": [],
   "source": [
    "FINAL_FILEAI100.to_netcdf('/Users/jcaillet/Documents/Elmer/CMIP6/DATA/IPSL/SLE2100_ATMO_IPSL_V2.nc')\n",
    "MIN_MAXAI.to_netcdf('/Users/jcaillet/Documents/Elmer/CMIP6/DATA/IPSL/SLE_minmax_ATMO_IPSL_V2.nc')"
   ]
  },
  {
   "cell_type": "markdown",
   "id": "c4d0a871",
   "metadata": {},
   "source": [
    "### oceanic and both"
   ]
  },
  {
   "cell_type": "code",
   "execution_count": 76,
   "id": "f8b5add5",
   "metadata": {},
   "outputs": [],
   "source": [
    "# available members\n",
    "memboi = np.array([1,3,6,11,25])\n",
    "                  \n",
    "# bassins\n",
    "subbas = np.arange(1,19,1)\n",
    "bas = np.arange(1,4,1)                \n",
    "\n",
    "#data\n",
    "netCDF_fileINI = '/Users/jcaillet/Documents/Elmer/CMIP6/DATA/IPSL/ismip6_states_ismip6_w1-histae_002.nc'\n",
    "RESINI = xr.open_mfdataset(netCDF_fileINI)\n",
    "\n",
    "netCDF_filemask = '/Users/jcaillet/Documents/Elmer/Papier_ete/Mask_Regions_IMBIE_ElmerGrid.nc'\n",
    "mask = xr.open_mfdataset(netCDF_filemask)\n",
    "\n",
    "netCDF_filemasks = '/Users/jcaillet/Documents/Elmer/Papier_ete/Mask_SubRegions_IMBIE_ElmerGrid.nc'\n",
    "maskSS = xr.open_mfdataset(netCDF_filemasks)\n",
    "\n",
    "#initialisation\n",
    "RESINI['time']=np.arange(2006,2016,1)\n",
    "data_file = f'/Users/jcaillet/Documents/Elmer/CMIP6/DATA/IPSL/ismip6_states_ismip6_w1-ipslm1_*.nc'\n",
    "RES = xr.open_mfdataset(data_file)\n",
    "t = np.arange(2015,2101,1)\n",
    "FINAL_FILEI = xr.Dataset(data_vars=dict(time_ini=([\"time\"], t)), coords=dict(time=t))\n",
    "\n",
    "#boucle sur membres\n",
    "for j in memboi:\n",
    "    data_file = f'/Users/jcaillet/Documents/Elmer/CMIP6/DATA/IPSL/ismip6_states_ismip6_w1-ipslm{j}_*.nc'\n",
    "    RES = xr.open_mfdataset(data_file)\n",
    "    RES['time'] = np.arange(2015,2101,1)\n",
    "    # boucle sur bassins\n",
    "    for i in subbas:\n",
    "        #ref\n",
    "        RESINI[f'Vaf_SB{i}'] = (RESINI['lithkaf'] * RESINI['true_cell_area']).where(maskSS['subbasins']==i).sum('nmesh2D_face')\n",
    "        RESINI[f'SLE_SB{i}'] = RESINI[f'Vaf_SB{i}'] * 1 / A_ocean * rho_ice / rho_water\n",
    "        #projection\n",
    "        FINAL_FILEI[f'Vaf_SB{i}_{j}'] = (RES['lithkaf'] * RES['true_cell_area']).where(maskSS['subbasins']==i).sum('nmesh2D_face')       \n",
    "        FINAL_FILEI[f'SLEO_SB{i}_{j}'] = -((FINAL_FILEI[f'Vaf_SB{i}_{j}'] * 1 / A_ocean * rho_ice / rho_water) - RESINI[f'SLE_SB{i}'][9]) - FINAL_FILEAI[f'SLEA_SB{i}_1']\n",
    "        FINAL_FILEI[f'SLEtot_SB{i}_{j}'] = FINAL_FILEI[f'SLEO_SB{i}_{j}'] + FINAL_FILEAI[f'SLEA_SB{i}_{j}']\n",
    "    for i in bas:\n",
    "        ##ref\n",
    "        RESINI[f'Vaf_B{i}'] = (RESINI['lithkaf'] * RESINI['true_cell_area']).where(mask['basinsIM']==i).sum('nmesh2D_face')\n",
    "        RESINI[f'SLE_B{i}'] = RESINI[f'Vaf_B{i}'] * 1 / A_ocean * rho_ice / rho_water\n",
    "        ##projection\n",
    "        FINAL_FILEI[f'Vaf_B{i}_{j}'] = (RES['lithkaf'] * RES['true_cell_area']).where(mask['basinsIM']==i).sum('nmesh2D_face')\n",
    "        FINAL_FILEI[f'SLEO_B{i}_{j}'] = -((FINAL_FILEI[f'Vaf_B{i}_{j}'] * 1 / A_ocean * rho_ice / rho_water) - RESINI[f'SLE_B{i}'][9]) - FINAL_FILEAI[f'SLEA_B{i}_1']\n",
    "        FINAL_FILEI[f'SLEtot_B{i}_{j}'] = FINAL_FILEI[f'SLEO_B{i}_{j}'] + FINAL_FILEAI[f'SLEA_B{i}_{j}']\n",
    "    for i in np.array([0]):\n",
    "        #ref\n",
    "        RESINI[f'Vaf_B{i}'] = (RESINI['lithkaf'] * RESINI['true_cell_area']).sum('nmesh2D_face')\n",
    "        RESINI[f'SLE_B{i}'] = RESINI[f'Vaf_B{i}'] * 1 / A_ocean * rho_ice / rho_water\n",
    "        #projection\n",
    "        FINAL_FILEI[f'Vaf_B{i}_{j}'] = (RES['lithkaf'] * RES['true_cell_area']).sum('nmesh2D_face')\n",
    "        FINAL_FILEI[f'SLEO_B{i}_{j}'] = -((FINAL_FILEI[f'Vaf_B{i}_{j}'] * 1 / A_ocean * rho_ice / rho_water) - RESINI[f'SLE_B{i}'][9]) - FINAL_FILEAI[f'SLEA_B{i}_1']\n",
    "        FINAL_FILEI[f'SLEtot_B{i}_{j}'] = FINAL_FILEI[f'SLEO_B{i}_{j}'] + FINAL_FILEAI[f'SLEA_B{i}_{j}']"
   ]
  },
  {
   "cell_type": "code",
   "execution_count": 9,
   "id": "a492b991",
   "metadata": {},
   "outputs": [
    {
     "name": "stdout",
     "output_type": "stream",
     "text": [
      "1\n",
      "2\n",
      "3\n",
      "4\n",
      "5\n",
      "6\n",
      "7\n",
      "8\n",
      "9\n",
      "10\n",
      "11\n",
      "12\n",
      "13\n",
      "14\n",
      "15\n",
      "16\n",
      "17\n",
      "18\n"
     ]
    }
   ],
   "source": [
    "FINAL_FILETI100 = xr.Dataset(data_vars=dict(memb=([\"member\"], memboi)), coords=dict(member=memboi))\n",
    "t = np.arange(2015,2101,1)\n",
    "MIN_MAXTI = xr.Dataset(data_vars=dict(time_ini=([\"time\"], t)), coords=dict(time=t))\n",
    "\n",
    "for i in subbas:\n",
    "    print(i)\n",
    "    d = {'M1': np.array(FINAL_FILEI[f'SLEtot_SB{i}_1']), 'M3': np.array(FINAL_FILEI[f'SLEtot_SB{i}_3']), 'M6': np.array(FINAL_FILEI[f'SLEtot_SB{i}_6']), 'M11': np.array(FINAL_FILEI[f'SLEtot_SB{i}_11']), 'M25': np.array(FINAL_FILEI[f'SLEtot_SB{i}_25'])}\n",
    "    df = pd.DataFrame(data=d)\n",
    "    dfmin = np.array(df.min(axis = 1))\n",
    "    dfmax = np.array(df.max(axis = 1))\n",
    "    dfmean = np.array(df.mean(axis = 1))\n",
    "    df2100 = np.array(df.iloc[85])\n",
    "    FINAL_FILETI100[f'SLEtot_SB{i}']= FINAL_FILETI100['memb'] - FINAL_FILETI100['memb'] + df2100\n",
    "    MIN_MAXTI[f'SLEtot_SB{i}min'] = MIN_MAXTI['time_ini'] - MIN_MAXTI['time_ini'] + dfmin\n",
    "    MIN_MAXTI[f'SLEtot_SB{i}max'] = MIN_MAXTI['time_ini'] - MIN_MAXTI['time_ini'] + dfmax\n",
    "    MIN_MAXTI[f'SLEtot_SB{i}mean'] = MIN_MAXTI['time_ini'] - MIN_MAXTI['time_ini'] + dfmean"
   ]
  },
  {
   "cell_type": "code",
   "execution_count": 10,
   "id": "feb05ff7",
   "metadata": {},
   "outputs": [
    {
     "name": "stdout",
     "output_type": "stream",
     "text": [
      "0\n",
      "1\n",
      "2\n",
      "3\n"
     ]
    }
   ],
   "source": [
    "basf = np.arange(0,4,1)\n",
    "for i in basf:\n",
    "    print(i)\n",
    "    d = {'M1': np.array(FINAL_FILEI[f'SLEtot_B{i}_1']), 'M3': np.array(FINAL_FILEI[f'SLEtot_B{i}_3']), 'M6': np.array(FINAL_FILEI[f'SLEtot_B{i}_6']), 'M11': np.array(FINAL_FILEI[f'SLEtot_B{i}_11']), 'M25': np.array(FINAL_FILEI[f'SLEtot_B{i}_25'])}\n",
    "    df = pd.DataFrame(data=d)\n",
    "    dfmin = np.array(df.min(axis = 1))\n",
    "    dfmax = np.array(df.max(axis = 1))\n",
    "    dfmean = np.array(df.mean(axis = 1))\n",
    "    df2100 = np.array(df.iloc[85])\n",
    "    FINAL_FILETI100[f'SLEtot_B{i}']= FINAL_FILETI100['memb'] - FINAL_FILETI100['memb'] + df2100\n",
    "    MIN_MAXTI[f'SLEtot_B{i}min'] = MIN_MAXTI['time_ini'] - MIN_MAXTI['time_ini'] + dfmin\n",
    "    MIN_MAXTI[f'SLEtot_B{i}max'] = MIN_MAXTI['time_ini'] - MIN_MAXTI['time_ini'] + dfmax\n",
    "    MIN_MAXTI[f'SLEtot_B{i}mean'] = MIN_MAXTI['time_ini'] - MIN_MAXTI['time_ini'] + dfmean"
   ]
  },
  {
   "cell_type": "code",
   "execution_count": 77,
   "id": "d2322d8b",
   "metadata": {},
   "outputs": [
    {
     "name": "stdout",
     "output_type": "stream",
     "text": [
      "0\n"
     ]
    }
   ],
   "source": [
    "t = np.arange(2015,2101,1)\n",
    "MIN_MAXTI = xr.Dataset(data_vars=dict(time_ini=([\"time\"], t)), coords=dict(time=t))\n",
    "basf = np.arange(0,1,1)\n",
    "for i in basf:\n",
    "    print(i)\n",
    "    d = {'M1': np.array(FINAL_FILEI[f'SLEtot_B{i}_1']), 'M3': np.array(FINAL_FILEI[f'SLEtot_B{i}_3']), 'M6': np.array(FINAL_FILEI[f'SLEtot_B{i}_6']), 'M11': np.array(FINAL_FILEI[f'SLEtot_B{i}_11']), 'M25': np.array(FINAL_FILEI[f'SLEtot_B{i}_25'])}\n",
    "    df = pd.DataFrame(data=d)\n",
    "    dfstd = np.array(df.std(axis = 1))\n",
    "    dfmean = np.array(df.mean(axis = 1))\n",
    "    MIN_MAXTI[f'SLEtot_B{i}std'] = MIN_MAXTI['time_ini'] - MIN_MAXTI['time_ini'] + dfstd\n",
    "    MIN_MAXTI[f'SLEtot_B{i}mean'] = MIN_MAXTI['time_ini'] - MIN_MAXTI['time_ini'] + dfmean"
   ]
  },
  {
   "cell_type": "code",
   "execution_count": 11,
   "id": "84851589",
   "metadata": {},
   "outputs": [],
   "source": [
    "FINAL_FILETI100.to_netcdf('/Users/jcaillet/Documents/Elmer/CMIP6/DATA/IPSL/SLE2100_TOT_IPSL_V3.nc')\n",
    "MIN_MAXTI.to_netcdf('/Users/jcaillet/Documents/Elmer/CMIP6/DATA/IPSL/SLE_minmax_TOT_IPSL_V3.nc')"
   ]
  },
  {
   "cell_type": "code",
   "execution_count": 12,
   "id": "a425e690",
   "metadata": {},
   "outputs": [
    {
     "name": "stdout",
     "output_type": "stream",
     "text": [
      "1\n",
      "2\n",
      "3\n",
      "4\n",
      "5\n",
      "6\n",
      "7\n",
      "8\n",
      "9\n",
      "10\n",
      "11\n",
      "12\n",
      "13\n",
      "14\n",
      "15\n",
      "16\n",
      "17\n",
      "18\n"
     ]
    }
   ],
   "source": [
    "FINAL_FILEOI100 = xr.Dataset(data_vars=dict(memb=([\"member\"], memboi)), coords=dict(member=memboi))\n",
    "t = np.arange(2015,2101,1)\n",
    "MIN_MAXOI = xr.Dataset(data_vars=dict(time_ini=([\"time\"], t)), coords=dict(time=t))\n",
    "\n",
    "for i in subbas:\n",
    "    print(i)\n",
    "    d = {'M1': np.array(FINAL_FILEI[f'SLEO_SB{i}_1']), 'M3': np.array(FINAL_FILEI[f'SLEO_SB{i}_3']), 'M6': np.array(FINAL_FILEI[f'SLEO_SB{i}_6']), 'M11': np.array(FINAL_FILEI[f'SLEO_SB{i}_11']), 'M25': np.array(FINAL_FILEI[f'SLEO_SB{i}_25'])}\n",
    "    df = pd.DataFrame(data=d)\n",
    "    dfmin = np.array(df.min(axis = 1))\n",
    "    dfmax = np.array(df.max(axis = 1))\n",
    "    dfmean = np.array(df.mean(axis = 1))\n",
    "    df2100 = np.array(df.iloc[85])\n",
    "    FINAL_FILEOI100[f'SLEO_SB{i}']= FINAL_FILEOI100['memb'] - FINAL_FILEOI100['memb'] + df2100\n",
    "    MIN_MAXOI[f'SLEO_SB{i}min'] = MIN_MAXOI['time_ini'] - MIN_MAXOI['time_ini'] + dfmin\n",
    "    MIN_MAXOI[f'SLEO_SB{i}max'] = MIN_MAXOI['time_ini'] - MIN_MAXOI['time_ini'] + dfmax\n",
    "    MIN_MAXOI[f'SLEO_SB{i}mean'] = MIN_MAXOI['time_ini'] - MIN_MAXOI['time_ini'] + dfmean"
   ]
  },
  {
   "cell_type": "code",
   "execution_count": 13,
   "id": "75b2e878",
   "metadata": {},
   "outputs": [
    {
     "name": "stdout",
     "output_type": "stream",
     "text": [
      "0\n",
      "1\n",
      "2\n",
      "3\n"
     ]
    }
   ],
   "source": [
    "basf = np.arange(0,4,1)\n",
    "for i in basf:\n",
    "    print(i)\n",
    "    d = {'M1': np.array(FINAL_FILEI[f'SLEO_B{i}_1']), 'M3': np.array(FINAL_FILEI[f'SLEO_B{i}_3']), 'M6': np.array(FINAL_FILEI[f'SLEO_B{i}_6']), 'M11': np.array(FINAL_FILEI[f'SLEO_B{i}_11']), 'M25': np.array(FINAL_FILEI[f'SLEO_B{i}_25'])}\n",
    "    df = pd.DataFrame(data=d)\n",
    "    dfmin = np.array(df.min(axis = 1))\n",
    "    dfmax = np.array(df.max(axis = 1))\n",
    "    dfmean = np.array(df.mean(axis = 1))\n",
    "    df2100 = np.array(df.iloc[85])\n",
    "    FINAL_FILEOI100[f'SLEO_B{i}']= FINAL_FILEOI100['memb'] - FINAL_FILEOI100['memb'] + df2100\n",
    "    MIN_MAXOI[f'SLEO_B{i}min'] = MIN_MAXOI['time_ini'] - MIN_MAXOI['time_ini'] + dfmin\n",
    "    MIN_MAXOI[f'SLEO_B{i}max'] = MIN_MAXOI['time_ini'] - MIN_MAXOI['time_ini'] + dfmax\n",
    "    MIN_MAXOI[f'SLEO_B{i}mean'] = MIN_MAXOI['time_ini'] - MIN_MAXOI['time_ini'] + dfmean"
   ]
  },
  {
   "cell_type": "code",
   "execution_count": 14,
   "id": "ca33c102",
   "metadata": {},
   "outputs": [],
   "source": [
    "FINAL_FILEOI100.to_netcdf('/Users/jcaillet/Documents/Elmer/CMIP6/DATA/IPSL/SLE2100_OC_IPSL_V3.nc')\n",
    "MIN_MAXOI.to_netcdf('/Users/jcaillet/Documents/Elmer/CMIP6/DATA/IPSL/SLE_minmax_OC_IPSL_V3.nc')"
   ]
  },
  {
   "cell_type": "markdown",
   "id": "b590e345",
   "metadata": {},
   "source": [
    "## MPI"
   ]
  },
  {
   "cell_type": "markdown",
   "id": "aa36ccc5",
   "metadata": {},
   "source": [
    "### atmospheric"
   ]
  },
  {
   "cell_type": "code",
   "execution_count": 80,
   "id": "f4a6d63e",
   "metadata": {},
   "outputs": [],
   "source": [
    "# Open data \n",
    "netCDF_file = '/Users/jcaillet/Documents/Elmer/CMIP6/DATA/MPI/MAR-MPI-ESM1-2-HR-r1i1p1f1_asmb_2015-2100_ssp245_regrid_04000m_FROM_MPI-ESM1-2-HR-r1i1p1f1-ssp245.nc'\n",
    "ATMOM = xr.open_mfdataset(netCDF_file, decode_times=False)\n",
    "\n",
    "netCDF_filemask = '/Users/jcaillet/Documents/Elmer/DATA/BASINS/Mask_SubRegions_IMBIE.nc'\n",
    "maskS = xr.open_mfdataset(netCDF_filemask)\n",
    "\n",
    "netCDF_filemask = '/Users/jcaillet/Documents/Elmer/DATA/BASINS/Mask_Regions_IMBIE.nc'\n",
    "maskR = xr.open_mfdataset(netCDF_filemask)\n",
    "\n",
    "netCDF_ini = '/Users/jcaillet/Documents/Elmer/CMIP6/DATA/RCM_ice_regrid_04000m.nc2'\n",
    "ini = xr.open_mfdataset(netCDF_ini)\n",
    "\n",
    "# available members\n",
    "membm = np.array([1,2])\n",
    "\n",
    "# bassins\n",
    "subbas = np.arange(1,19,1)\n",
    "bas = np.arange(1,4,1)\n",
    "basf = np.arange(0,4,1)\n",
    "\n",
    "# interpolation of mask on the same grid as MAR data\n",
    "ATMOM['x']=ini['x']\n",
    "ATMOM['y']=ini['y']\n",
    "maskS_interp = maskS.interp_like(ATMOM)\n",
    "maskR_interp = maskR.interp_like(ATMOM)\n",
    "\n",
    "#initialisation\n",
    "t = np.arange(2015,2101,1)\n",
    "FINAL_FILEAM = xr.Dataset(data_vars=dict(time_ini=([\"time\"], t)), coords=dict(time=t))\n",
    "\n",
    "#boucle sur membres\n",
    "for j in membm :\n",
    "    data_file = f'/Users/jcaillet/Documents/Elmer/CMIP6/DATA/MPI/MAR-MPI-ESM1-2-HR-r{j}i1p1f*_asmb_2015-2100_ssp245_regrid_04000m_FROM_MPI-ESM1-2-HR-r1i1p1f1-ssp245.nc'\n",
    "    RES = xr.open_mfdataset(data_file, decode_times=False)\n",
    "    RES['time']=FINAL_FILEAM['time']\n",
    "    # boucle sur bassins\n",
    "    for i in subbas:\n",
    "        FINAL_FILEAM[f'SLEA_SB{i}_{j}'] = (RES['asmb'] * fac * ini['af2'] * ini['GROUND']).where(maskS['SubBasins_extrap']==i).sum(['x','y'])\n",
    "        FINAL_FILEAM[f'SLEA_SB{i}_{j}'] = -(np.cumsum(FINAL_FILEAM[f'SLEA_SB{i}_{j}']) * 1 / (A_ocean * rho_water))\n",
    "    for i in bas:\n",
    "        FINAL_FILEAM[f'SLEA_B{i}_{j}'] = (RES['asmb'] * fac * ini['af2'] * ini['GROUND']).where(maskR['Basins_extrap']==i).sum(['x','y'])\n",
    "        FINAL_FILEAM[f'SLEA_B{i}_{j}'] = -(np.cumsum(FINAL_FILEAM[f'SLEA_B{i}_{j}']) * 1 / (A_ocean * rho_water))       \n",
    "    for i in np.array([0]):\n",
    "        #projection\n",
    "        FINAL_FILEAM[f'SLEA_B{i}_{j}'] = (RES['asmb'] * fac * ini['af2'] * ini['GROUND']).sum(['x','y'])\n",
    "        FINAL_FILEAM[f'SLEA_B{i}_{j}'] = -(np.cumsum(FINAL_FILEAM[f'SLEA_B{i}_{j}']) * 1 / (A_ocean * rho_water))\n",
    "# SLE en m !"
   ]
  },
  {
   "cell_type": "code",
   "execution_count": 38,
   "id": "cd3faa2c",
   "metadata": {},
   "outputs": [
    {
     "name": "stdout",
     "output_type": "stream",
     "text": [
      "1\n",
      "2\n",
      "3\n",
      "4\n",
      "5\n",
      "6\n",
      "7\n",
      "8\n",
      "9\n",
      "10\n",
      "11\n",
      "12\n",
      "13\n",
      "14\n",
      "15\n",
      "16\n",
      "17\n",
      "18\n"
     ]
    }
   ],
   "source": [
    "FINAL_FILEAM100 = xr.Dataset(data_vars=dict(memb=([\"member\"], membm)), coords=dict(member=membm))\n",
    "t = np.arange(2015,2101,1)\n",
    "MIN_MAXAM = xr.Dataset(data_vars=dict(time_ini=([\"time\"], t)), coords=dict(time=t))\n",
    "\n",
    "for i in subbas:\n",
    "    print(i)\n",
    "    d = {'M1': np.array(FINAL_FILEAM[f'SLEA_SB{i}_1']), 'M2': np.array(FINAL_FILEAM[f'SLEA_SB{i}_2'])}\n",
    "    df = pd.DataFrame(data=d)\n",
    "    dfmin = np.array(df.min(axis = 1))\n",
    "    dfmax = np.array(df.max(axis = 1))\n",
    "    dfmean = np.array(df.mean(axis = 1))\n",
    "    df2100 = np.array(df.iloc[85])\n",
    "    FINAL_FILEAM100[f'SLEA_SB{i}']= FINAL_FILEAM100['memb'] - FINAL_FILEAM100['memb'] + df2100\n",
    "    MIN_MAXAM[f'SLEA_SB{i}min'] = MIN_MAXAM['time_ini'] - MIN_MAXAM['time_ini'] + dfmin\n",
    "    MIN_MAXAM[f'SLEA_SB{i}max'] = MIN_MAXAM['time_ini'] - MIN_MAXAM['time_ini'] + dfmax\n",
    "    MIN_MAXAM[f'SLEA_SB{i}mean'] = MIN_MAXAM['time_ini'] - MIN_MAXAM['time_ini'] + dfmean"
   ]
  },
  {
   "cell_type": "code",
   "execution_count": 39,
   "id": "37c5aced",
   "metadata": {},
   "outputs": [
    {
     "name": "stdout",
     "output_type": "stream",
     "text": [
      "0\n",
      "1\n",
      "2\n",
      "3\n"
     ]
    }
   ],
   "source": [
    "basf = np.arange(0,4,1)\n",
    "for i in basf:\n",
    "    print(i)\n",
    "    d = {'M1': np.array(FINAL_FILEAM[f'SLEA_B{i}_1']), 'M2': np.array(FINAL_FILEAM[f'SLEA_B{i}_2'])}\n",
    "    df = pd.DataFrame(data=d)\n",
    "    dfmin = np.array(df.min(axis = 1))\n",
    "    dfmax = np.array(df.max(axis = 1))\n",
    "    dfmean = np.array(df.mean(axis = 1))\n",
    "    df2100 = np.array(df.iloc[85])\n",
    "    FINAL_FILEAM100[f'SLEA_B{i}']= FINAL_FILEAM100['memb'] - FINAL_FILEAM100['memb'] + df2100\n",
    "    MIN_MAXAM[f'SLEA_B{i}min'] = MIN_MAXAM['time_ini'] - MIN_MAXAM['time_ini'] + dfmin\n",
    "    MIN_MAXAM[f'SLEA_B{i}max'] = MIN_MAXAM['time_ini'] - MIN_MAXAM['time_ini'] + dfmax\n",
    "    MIN_MAXAM[f'SLEA_B{i}mean'] = MIN_MAXAM['time_ini'] - MIN_MAXAM['time_ini'] + dfmean"
   ]
  },
  {
   "cell_type": "code",
   "execution_count": 40,
   "id": "999863e6",
   "metadata": {},
   "outputs": [],
   "source": [
    "FINAL_FILEAM100.to_netcdf('/Users/jcaillet/Documents/Elmer/CMIP6/DATA/MPI/SLE2100_ATMO_MPI_V2.nc')\n",
    "MIN_MAXAM.to_netcdf('/Users/jcaillet/Documents/Elmer/CMIP6/DATA/MPI/SLE_minmax_ATMO_MPI_V2.nc')"
   ]
  },
  {
   "cell_type": "markdown",
   "id": "a2805c0d",
   "metadata": {},
   "source": [
    "### oceanic and both contribution"
   ]
  },
  {
   "cell_type": "code",
   "execution_count": 81,
   "id": "90e69978",
   "metadata": {},
   "outputs": [],
   "source": [
    "# available members\n",
    "membom = np.array([1,2])\n",
    "                  \n",
    "# bassins\n",
    "subbas = np.arange(1,19,1)\n",
    "bas = np.arange(1,4,1)                \n",
    "\n",
    "#data\n",
    "netCDF_fileINI = '/Users/jcaillet/Documents/Elmer/CMIP6/DATA/IPSL/ismip6_states_ismip6_w1-histae_002.nc'\n",
    "RESINI = xr.open_mfdataset(netCDF_fileINI)\n",
    "\n",
    "netCDF_filemask = '/Users/jcaillet/Documents/Elmer/Papier_ete/Mask_Regions_IMBIE_ElmerGrid.nc'\n",
    "mask = xr.open_mfdataset(netCDF_filemask)\n",
    "\n",
    "netCDF_filemasks = '/Users/jcaillet/Documents/Elmer/Papier_ete/Mask_SubRegions_IMBIE_ElmerGrid.nc'\n",
    "maskSS = xr.open_mfdataset(netCDF_filemasks)\n",
    "\n",
    "#initialisation\n",
    "RESINI['time']=np.arange(2006,2016,1)\n",
    "data_file = f'/Users/jcaillet/Documents/Elmer/CMIP6/DATA/MPI/ismip6_states_ismip6_w1-mpim1*.nc'\n",
    "RES = xr.open_mfdataset(data_file)\n",
    "t = np.arange(2015,2101,1)\n",
    "FINAL_FILEM = xr.Dataset(data_vars=dict(time_ini=([\"time\"], t)), coords=dict(time=t))\n",
    "\n",
    "#boucle sur membres\n",
    "for j in membom:\n",
    "    data_file = f'/Users/jcaillet/Documents/Elmer/CMIP6/DATA/MPI/ismip6_states_ismip6_w1-mpim{j}_*.nc'\n",
    "    RES = xr.open_mfdataset(data_file)\n",
    "    RES['time'] = np.arange(2015,2101,1)\n",
    "    # boucle sur bassins\n",
    "    for i in subbas:\n",
    "        #ref\n",
    "        RESINI[f'Vaf_SB{i}'] = (RESINI['lithkaf'] * RESINI['true_cell_area']).where(maskSS['subbasins']==i).sum('nmesh2D_face')\n",
    "        RESINI[f'SLE_SB{i}'] = RESINI[f'Vaf_SB{i}'] * 1 / A_ocean * rho_ice / rho_water\n",
    "        #projection\n",
    "        FINAL_FILEM[f'Vaf_SB{i}_{j}'] = (RES['lithkaf'] * RES['true_cell_area']).where(maskSS['subbasins']==i).sum('nmesh2D_face')\n",
    "        FINAL_FILEM[f'SLEO_SB{i}_{j}'] = -((FINAL_FILEM[f'Vaf_SB{i}_{j}'] * 1 / A_ocean * rho_ice / rho_water) - RESINI[f'SLE_SB{i}'][9]) - FINAL_FILEAM[f'SLEA_SB{i}_1']\n",
    "        FINAL_FILEM[f'SLEtot_SB{i}_{j}'] = FINAL_FILEM[f'SLEO_SB{i}_{j}'] + FINAL_FILEAM[f'SLEA_SB{i}_{j}']\n",
    "    for i in bas:\n",
    "        ##ref\n",
    "        RESINI[f'Vaf_B{i}'] = (RESINI['lithkaf'] * RESINI['true_cell_area']).where(mask['basinsIM']==i).sum('nmesh2D_face')\n",
    "        RESINI[f'SLE_B{i}'] = RESINI[f'Vaf_B{i}'] * 1 / A_ocean * rho_ice / rho_water\n",
    "        ##projection\n",
    "        FINAL_FILEM[f'Vaf_B{i}_{j}'] = (RES['lithkaf'] * RES['true_cell_area']).where(mask['basinsIM']==i).sum('nmesh2D_face')\n",
    "        FINAL_FILEM[f'SLEO_B{i}_{j}'] = -((FINAL_FILEM[f'Vaf_B{i}_{j}'] * 1 / A_ocean * rho_ice / rho_water) - RESINI[f'SLE_B{i}'][9]) - FINAL_FILEAM[f'SLEA_B{i}_1']\n",
    "        FINAL_FILEM[f'SLEtot_B{i}_{j}'] = FINAL_FILEM[f'SLEO_B{i}_{j}'] + FINAL_FILEAM[f'SLEA_B{i}_{j}']\n",
    "        \n",
    "    for i in np.array([0]):\n",
    "        #ref\n",
    "        RESINI[f'Vaf_B{i}'] = (RESINI['lithkaf'] * RESINI['true_cell_area']).sum('nmesh2D_face')\n",
    "        RESINI[f'SLE_B{i}'] = RESINI[f'Vaf_B{i}'] * 1 / A_ocean * rho_ice / rho_water\n",
    "        #projection\n",
    "        FINAL_FILEM[f'Vaf_B{i}_{j}'] = (RES['lithkaf'] * RES['true_cell_area']).sum('nmesh2D_face')\n",
    "        FINAL_FILEM[f'SLEO_B{i}_{j}'] = -((FINAL_FILEM[f'Vaf_B{i}_{j}'] * 1 / A_ocean * rho_ice / rho_water) - RESINI[f'SLE_B{i}'][9]) - FINAL_FILEAM[f'SLEA_B{i}_1']\n",
    "        FINAL_FILEM[f'SLEtot_B{i}_{j}'] = FINAL_FILEM[f'SLEO_B{i}_{j}'] + FINAL_FILEAM[f'SLEA_B{i}_{j}']"
   ]
  },
  {
   "cell_type": "code",
   "execution_count": 17,
   "id": "2ae0801c",
   "metadata": {},
   "outputs": [
    {
     "name": "stdout",
     "output_type": "stream",
     "text": [
      "1\n",
      "2\n",
      "3\n",
      "4\n",
      "5\n",
      "6\n",
      "7\n",
      "8\n",
      "9\n",
      "10\n",
      "11\n",
      "12\n",
      "13\n",
      "14\n",
      "15\n",
      "16\n",
      "17\n",
      "18\n"
     ]
    }
   ],
   "source": [
    "FINAL_FILETM100 = xr.Dataset(data_vars=dict(memb=([\"member\"], membom)), coords=dict(member=membom))\n",
    "t = np.arange(2015,2101,1)\n",
    "MIN_MAXTM = xr.Dataset(data_vars=dict(time_ini=([\"time\"], t)), coords=dict(time=t))\n",
    "\n",
    "for i in subbas:\n",
    "    print(i)\n",
    "    d = {'M1': np.array(FINAL_FILEM[f'SLEtot_SB{i}_1']), 'M2': np.array(FINAL_FILEM[f'SLEtot_SB{i}_2'])}\n",
    "    df = pd.DataFrame(data=d)\n",
    "    dfmin = np.array(df.min(axis = 1))\n",
    "    dfmax = np.array(df.max(axis = 1))\n",
    "    dfmean = np.array(df.mean(axis = 1))\n",
    "    df2100 = np.array(df.iloc[85])\n",
    "    FINAL_FILETM100[f'SLEtot_SB{i}']= FINAL_FILETM100['memb'] - FINAL_FILETM100['memb'] + df2100\n",
    "    MIN_MAXTM[f'SLEtot_SB{i}min'] = MIN_MAXTM['time_ini'] - MIN_MAXTM['time_ini'] + dfmin\n",
    "    MIN_MAXTM[f'SLEtot_SB{i}max'] = MIN_MAXTM['time_ini'] - MIN_MAXTM['time_ini'] + dfmax\n",
    "    MIN_MAXTM[f'SLEtot_SB{i}mean'] = MIN_MAXTM['time_ini'] - MIN_MAXTM['time_ini'] + dfmean"
   ]
  },
  {
   "cell_type": "code",
   "execution_count": 18,
   "id": "f13a3750",
   "metadata": {},
   "outputs": [
    {
     "name": "stdout",
     "output_type": "stream",
     "text": [
      "0\n",
      "1\n",
      "2\n",
      "3\n"
     ]
    }
   ],
   "source": [
    "for i in basf:\n",
    "    print(i)\n",
    "    d = {'M1': np.array(FINAL_FILEM[f'SLEtot_B{i}_1']), 'M2': np.array(FINAL_FILEM[f'SLEtot_B{i}_2'])}\n",
    "    df = pd.DataFrame(data=d)\n",
    "    dfmin = np.array(df.min(axis = 1))\n",
    "    dfmax = np.array(df.max(axis = 1))\n",
    "    dfmean = np.array(df.mean(axis = 1))\n",
    "    df2100 = np.array(df.iloc[85])\n",
    "    FINAL_FILETM100[f'SLEtot_B{i}']= FINAL_FILETM100['memb'] - FINAL_FILETM100['memb'] + df2100\n",
    "    MIN_MAXTM[f'SLEtot_B{i}min'] = MIN_MAXTM['time_ini'] - MIN_MAXTM['time_ini'] + dfmin\n",
    "    MIN_MAXTM[f'SLEtot_B{i}max'] = MIN_MAXTM['time_ini'] - MIN_MAXTM['time_ini'] + dfmax\n",
    "    MIN_MAXTM[f'SLEtot_B{i}mean'] = MIN_MAXTM['time_ini'] - MIN_MAXTM['time_ini'] + dfmean"
   ]
  },
  {
   "cell_type": "code",
   "execution_count": 83,
   "id": "3858613c",
   "metadata": {},
   "outputs": [
    {
     "name": "stdout",
     "output_type": "stream",
     "text": [
      "0\n"
     ]
    }
   ],
   "source": [
    "t = np.arange(2015,2101,1)\n",
    "MIN_MAXTM = xr.Dataset(data_vars=dict(time_ini=([\"time\"], t)), coords=dict(time=t))\n",
    "basf = np.arange(0,1,1) \n",
    "for i in basf:\n",
    "    print(i)\n",
    "    d = {'M1': np.array(FINAL_FILEM[f'SLEtot_B{i}_1']), 'M2': np.array(FINAL_FILEM[f'SLEtot_B{i}_2'])}\n",
    "    df = pd.DataFrame(data=d)\n",
    "    dfstd = np.array(df.std(axis = 1))\n",
    "    dfmean = np.array(df.mean(axis = 1))\n",
    "    MIN_MAXTM[f'SLEtot_B{i}std'] = MIN_MAXTM['time_ini'] - MIN_MAXTM['time_ini'] + dfstd\n",
    "    MIN_MAXTM[f'SLEtot_B{i}mean'] = MIN_MAXTM['time_ini'] - MIN_MAXTM['time_ini'] + dfmean"
   ]
  },
  {
   "cell_type": "code",
   "execution_count": 19,
   "id": "512d55a8",
   "metadata": {},
   "outputs": [],
   "source": [
    "FINAL_FILETM100.to_netcdf('/Users/jcaillet/Documents/Elmer/CMIP6/DATA/MPI/SLE2100_TOT_MPI_V3.nc')\n",
    "MIN_MAXTM.to_netcdf('/Users/jcaillet/Documents/Elmer/CMIP6/DATA/MPI/SLE_minmax_TOT_MPI_V3.nc')"
   ]
  },
  {
   "cell_type": "code",
   "execution_count": 20,
   "id": "e041f88a",
   "metadata": {},
   "outputs": [
    {
     "name": "stdout",
     "output_type": "stream",
     "text": [
      "1\n",
      "2\n",
      "3\n",
      "4\n",
      "5\n",
      "6\n",
      "7\n",
      "8\n",
      "9\n",
      "10\n",
      "11\n",
      "12\n",
      "13\n",
      "14\n",
      "15\n",
      "16\n",
      "17\n",
      "18\n"
     ]
    }
   ],
   "source": [
    "FINAL_FILEOM100 = xr.Dataset(data_vars=dict(memb=([\"member\"], membom)), coords=dict(member=membom))\n",
    "t = np.arange(2015,2101,1)\n",
    "MIN_MAXOM = xr.Dataset(data_vars=dict(time_ini=([\"time\"], t)), coords=dict(time=t))\n",
    "\n",
    "for i in subbas:\n",
    "    print(i)\n",
    "    d = {'M1': np.array(FINAL_FILEM[f'SLEO_SB{i}_1']), 'M2': np.array(FINAL_FILEM[f'SLEO_SB{i}_2'])}\n",
    "    df = pd.DataFrame(data=d)\n",
    "    dfmin = np.array(df.min(axis = 1))\n",
    "    dfmax = np.array(df.max(axis = 1))\n",
    "    dfmean = np.array(df.mean(axis = 1))\n",
    "    df2100 = np.array(df.iloc[85])\n",
    "    FINAL_FILEOM100[f'SLEO_SB{i}']= FINAL_FILEOM100['memb'] - FINAL_FILEOM100['memb'] + df2100\n",
    "    MIN_MAXOM[f'SLEO_SB{i}min'] = MIN_MAXOM['time_ini'] - MIN_MAXOM['time_ini'] + dfmin\n",
    "    MIN_MAXOM[f'SLEO_SB{i}max'] = MIN_MAXOM['time_ini'] - MIN_MAXOM['time_ini'] + dfmax\n",
    "    MIN_MAXOM[f'SLEO_SB{i}mean'] = MIN_MAXOM['time_ini'] - MIN_MAXOM['time_ini'] + dfmean"
   ]
  },
  {
   "cell_type": "code",
   "execution_count": 21,
   "id": "452403f3",
   "metadata": {},
   "outputs": [
    {
     "name": "stdout",
     "output_type": "stream",
     "text": [
      "0\n",
      "1\n",
      "2\n",
      "3\n"
     ]
    }
   ],
   "source": [
    "for i in basf:\n",
    "    print(i)\n",
    "    d = {'M1': np.array(FINAL_FILEM[f'SLEO_B{i}_1']), 'M2': np.array(FINAL_FILEM[f'SLEO_B{i}_2'])}\n",
    "    df = pd.DataFrame(data=d)\n",
    "    dfmin = np.array(df.min(axis = 1))\n",
    "    dfmax = np.array(df.max(axis = 1))\n",
    "    dfmean = np.array(df.mean(axis = 1))\n",
    "    df2100 = np.array(df.iloc[85])\n",
    "    FINAL_FILEOM100[f'SLEO_B{i}']= FINAL_FILEOM100['memb'] - FINAL_FILEOM100['memb'] + df2100\n",
    "    MIN_MAXOM[f'SLEO_B{i}min'] = MIN_MAXOM['time_ini'] - MIN_MAXOM['time_ini'] + dfmin\n",
    "    MIN_MAXOM[f'SLEO_B{i}max'] = MIN_MAXOM['time_ini'] - MIN_MAXOM['time_ini'] + dfmax\n",
    "    MIN_MAXOM[f'SLEO_B{i}mean'] = MIN_MAXOM['time_ini'] - MIN_MAXOM['time_ini'] + dfmean"
   ]
  },
  {
   "cell_type": "code",
   "execution_count": 22,
   "id": "35415823",
   "metadata": {},
   "outputs": [],
   "source": [
    "FINAL_FILEOM100.to_netcdf('/Users/jcaillet/Documents/Elmer/CMIP6/DATA/MPI/SLE2100_OC_MPI_V3.nc')\n",
    "MIN_MAXOM.to_netcdf('/Users/jcaillet/Documents/Elmer/CMIP6/DATA/MPI/SLE_minmax_OC_MPI_V3.nc')"
   ]
  },
  {
   "cell_type": "markdown",
   "id": "4ff4f6ef",
   "metadata": {},
   "source": [
    "## Figure"
   ]
  },
  {
   "cell_type": "code",
   "execution_count": 5,
   "id": "48cbc26f",
   "metadata": {},
   "outputs": [],
   "source": [
    "# open netcdf file\n",
    "SLE2100_OC_UK = '/Users/jcaillet/Documents/Elmer/CMIP6/DATA/UKESM/SLE2100_OC_UKESM_V3.nc'\n",
    "SLE2100_ATMO_UK = '/Users/jcaillet/Documents/Elmer/CMIP6/DATA/UKESM/SLE2100_ATMO_UKESM_V2.nc'\n",
    "SLE2100_TOT_UK = '/Users/jcaillet/Documents/Elmer/CMIP6/DATA/UKESM/SLE2100_TOT_UKESM_V3.nc'\n",
    "UKESM_SLE2100_OC = xr.open_mfdataset(SLE2100_OC_UK)\n",
    "UKESM_SLE2100_ATMO = xr.open_mfdataset(SLE2100_ATMO_UK)\n",
    "UKESM_SLE2100_TOT = xr.open_mfdataset(SLE2100_TOT_UK)\n",
    "\n",
    "SLE2100_OC_IP = '/Users/jcaillet/Documents/Elmer/CMIP6/DATA/IPSL/SLE2100_OC_IPSL_V3.nc'\n",
    "SLE2100_ATMO_IP = '/Users/jcaillet/Documents/Elmer/CMIP6/DATA/IPSL/SLE2100_ATMO_IPSL_V2.nc'\n",
    "SLE2100_TOT_IP = '/Users/jcaillet/Documents/Elmer/CMIP6/DATA/IPSL/SLE2100_TOT_IPSL_V3.nc'\n",
    "IPSL_SLE2100_OC = xr.open_mfdataset(SLE2100_OC_IP)\n",
    "IPSL_SLE2100_ATMO = xr.open_mfdataset(SLE2100_ATMO_IP)\n",
    "IPSL_SLE2100_TOT = xr.open_mfdataset(SLE2100_TOT_IP)\n",
    "\n",
    "SLE2100_OC_MP = '/Users/jcaillet/Documents/Elmer/CMIP6/DATA/MPI/SLE2100_OC_MPI_V3.nc'\n",
    "SLE2100_ATMO_MP = '/Users/jcaillet/Documents/Elmer/CMIP6/DATA/MPI/SLE2100_ATMO_MPI_V2.nc'\n",
    "SLE2100_TOT_MP = '/Users/jcaillet/Documents/Elmer/CMIP6/DATA/MPI/SLE2100_TOT_MPI_V3.nc'\n",
    "MPI_SLE2100_OC = xr.open_mfdataset(SLE2100_OC_MP)\n",
    "MPI_SLE2100_ATMO = xr.open_mfdataset(SLE2100_ATMO_MP)\n",
    "MPI_SLE2100_TOT = xr.open_mfdataset(SLE2100_TOT_MP)\n",
    "                 \n",
    "                 \n",
    "#data_tot_uk = [UKESM_SLE2100_TOT['SLEtot_SB1'], UKESM_SLE2100_TOT['SLEtot_SB2'], UKESM_SLE2100_TOT['SLEtot_SB3'], UKESM_SLE2100_TOT['SLEtot_SB4'], UKESM_SLE2100_TOT['SLEtot_SB5'], UKESM_SLE2100_TOT['SLEtot_SB6'], UKESM_SLE2100_TOT['SLEtot_SB7'], UKESM_SLE2100_TOT['SLEtot_SB8'], UKESM_SLE2100_TOT['SLEtot_SB9'], UKESM_SLE2100_TOT['SLEtot_SB10'], UKESM_SLE2100_TOT['SLEtot_SB11'], UKESM_SLE2100_TOT['SLEtot_SB12'], UKESM_SLE2100_TOT['SLEtot_SB13'], UKESM_SLE2100_TOT['SLEtot_SB14'], UKESM_SLE2100_TOT['SLEtot_SB15'], UKESM_SLE2100_TOT['SLEtot_SB16'], UKESM_SLE2100_TOT['SLEtot_SB17'], UKESM_SLE2100_TOT['SLEtot_SB18']]\n",
    "#data_oc_uk = [UKESM_SLE2100_OC['SLEO_SB1'], UKESM_SLE2100_OC['SLEO_SB2'], UKESM_SLE2100_OC['SLEO_SB3'], UKESM_SLE2100_OC['SLEO_SB4'], UKESM_SLE2100_OC['SLEO_SB5'], UKESM_SLE2100_OC['SLEO_SB6'], UKESM_SLE2100_OC['SLEO_SB7'], UKESM_SLE2100_OC['SLEO_SB8'], UKESM_SLE2100_OC['SLEO_SB9'], UKESM_SLE2100_OC['SLEO_SB10'], UKESM_SLE2100_OC['SLEO_SB11'], UKESM_SLE2100_OC['SLEO_SB12'], UKESM_SLE2100_OC['SLEO_SB13'], UKESM_SLE2100_OC['SLEO_SB14'], UKESM_SLE2100_OC['SLEO_SB15'], UKESM_SLE2100_OC['SLEO_SB16'], UKESM_SLE2100_OC['SLEO_SB17'], UKESM_SLE2100_OC['SLEO_SB18']]\n",
    "#data_atmo_uk = [UKESM_SLE2100_ATMO['SLEA_SB1'], UKESM_SLE2100_ATMO['SLEA_SB2'], UKESM_SLE2100_ATMO['SLEA_SB3'], UKESM_SLE2100_ATMO['SLEA_SB4'], UKESM_SLE2100_ATMO['SLEA_SB5'], UKESM_SLE2100_ATMO['SLEA_SB6'], UKESM_SLE2100_ATMO['SLEA_SB7'], UKESM_SLE2100_ATMO['SLEA_SB8'], UKESM_SLE2100_ATMO['SLEA_SB9'], UKESM_SLE2100_ATMO['SLEA_SB10'], UKESM_SLE2100_ATMO['SLEA_SB11'], UKESM_SLE2100_ATMO['SLEA_SB12'], UKESM_SLE2100_ATMO['SLEA_SB13'], UKESM_SLE2100_ATMO['SLEA_SB14'], UKESM_SLE2100_ATMO['SLEA_SB15'], UKESM_SLE2100_ATMO['SLEA_SB16'], UKESM_SLE2100_ATMO['SLEA_SB17'], UKESM_SLE2100_ATMO['SLEA_SB18']]\n",
    "\n",
    "#data_tot_ip = [IPSL_SLE2100_TOT['SLEtot_SB1'], IPSL_SLE2100_TOT['SLEtot_SB2'], IPSL_SLE2100_TOT['SLEtot_SB3'], IPSL_SLE2100_TOT['SLEtot_SB4'], IPSL_SLE2100_TOT['SLEtot_SB5'], IPSL_SLE2100_TOT['SLEtot_SB6'], IPSL_SLE2100_TOT['SLEtot_SB7'], IPSL_SLE2100_TOT['SLEtot_SB8'], IPSL_SLE2100_TOT['SLEtot_SB9'], IPSL_SLE2100_TOT['SLEtot_SB10'], IPSL_SLE2100_TOT['SLEtot_SB11'], IPSL_SLE2100_TOT['SLEtot_SB12'], IPSL_SLE2100_TOT['SLEtot_SB13'], IPSL_SLE2100_TOT['SLEtot_SB14'], IPSL_SLE2100_TOT['SLEtot_SB15'], IPSL_SLE2100_TOT['SLEtot_SB16'], IPSL_SLE2100_TOT['SLEtot_SB17'], IPSL_SLE2100_TOT['SLEtot_SB18']]\n",
    "#data_oc_ip = [IPSL_SLE2100_OC['SLEO_SB1'], IPSL_SLE2100_OC['SLEO_SB2'], IPSL_SLE2100_OC['SLEO_SB3'], IPSL_SLE2100_OC['SLEO_SB4'], IPSL_SLE2100_OC['SLEO_SB5'], IPSL_SLE2100_OC['SLEO_SB6'], IPSL_SLE2100_OC['SLEO_SB7'], IPSL_SLE2100_OC['SLEO_SB8'], IPSL_SLE2100_OC['SLEO_SB9'], IPSL_SLE2100_OC['SLEO_SB10'], IPSL_SLE2100_OC['SLEO_SB11'], IPSL_SLE2100_OC['SLEO_SB12'], IPSL_SLE2100_OC['SLEO_SB13'], IPSL_SLE2100_OC['SLEO_SB14'], IPSL_SLE2100_OC['SLEO_SB15'], IPSL_SLE2100_OC['SLEO_SB16'], IPSL_SLE2100_OC['SLEO_SB17'], IPSL_SLE2100_OC['SLEO_SB18']]\n",
    "#data_atmo_ip = [IPSL_SLE2100_ATMO['SLEA_SB1'], IPSL_SLE2100_ATMO['SLEA_SB2'], IPSL_SLE2100_ATMO['SLEA_SB3'], IPSL_SLE2100_ATMO['SLEA_SB4'], IPSL_SLE2100_ATMO['SLEA_SB5'], IPSL_SLE2100_ATMO['SLEA_SB6'], IPSL_SLE2100_ATMO['SLEA_SB7'], IPSL_SLE2100_ATMO['SLEA_SB8'], IPSL_SLE2100_ATMO['SLEA_SB9'], IPSL_SLE2100_ATMO['SLEA_SB10'], IPSL_SLE2100_ATMO['SLEA_SB11'], IPSL_SLE2100_ATMO['SLEA_SB12'], IPSL_SLE2100_ATMO['SLEA_SB13'], IPSL_SLE2100_ATMO['SLEA_SB14'], IPSL_SLE2100_ATMO['SLEA_SB15'], IPSL_SLE2100_ATMO['SLEA_SB16'], IPSL_SLE2100_ATMO['SLEA_SB17'], IPSL_SLE2100_ATMO['SLEA_SB18']]\n",
    "\n",
    "#data_tot_mp = [MPI_SLE2100_TOT['SLEtot_SB1'], MPI_SLE2100_TOT['SLEtot_SB2'], MPI_SLE2100_TOT['SLEtot_SB3'], MPI_SLE2100_TOT['SLEtot_SB4'], MPI_SLE2100_TOT['SLEtot_SB5'], MPI_SLE2100_TOT['SLEtot_SB6'], MPI_SLE2100_TOT['SLEtot_SB7'], MPI_SLE2100_TOT['SLEtot_SB8'], MPI_SLE2100_TOT['SLEtot_SB9'], MPI_SLE2100_TOT['SLEtot_SB10'], MPI_SLE2100_TOT['SLEtot_SB11'], MPI_SLE2100_TOT['SLEtot_SB12'], MPI_SLE2100_TOT['SLEtot_SB13'], MPI_SLE2100_TOT['SLEtot_SB14'], MPI_SLE2100_TOT['SLEtot_SB15'], MPI_SLE2100_TOT['SLEtot_SB16'], MPI_SLE2100_TOT['SLEtot_SB17'], MPI_SLE2100_TOT['SLEtot_SB18']]\n",
    "#data_oc_mp = [MPI_SLE2100_OC['SLEO_SB1'], MPI_SLE2100_OC['SLEO_SB2'], MPI_SLE2100_OC['SLEO_SB3'], MPI_SLE2100_OC['SLEO_SB4'], MPI_SLE2100_OC['SLEO_SB5'], MPI_SLE2100_OC['SLEO_SB6'], MPI_SLE2100_OC['SLEO_SB7'], MPI_SLE2100_OC['SLEO_SB8'], MPI_SLE2100_OC['SLEO_SB9'], MPI_SLE2100_OC['SLEO_SB10'], MPI_SLE2100_OC['SLEO_SB11'], MPI_SLE2100_OC['SLEO_SB12'], MPI_SLE2100_OC['SLEO_SB13'], MPI_SLE2100_OC['SLEO_SB14'], MPI_SLE2100_OC['SLEO_SB15'], MPI_SLE2100_OC['SLEO_SB16'], MPI_SLE2100_OC['SLEO_SB17'], MPI_SLE2100_OC['SLEO_SB18']]\n",
    "#data_atmo_mp = [MPI_SLE2100_ATMO['SLEA_SB1'], MPI_SLE2100_ATMO['SLEA_SB2'], MPI_SLE2100_ATMO['SLEA_SB3'], MPI_SLE2100_ATMO['SLEA_SB4'], MPI_SLE2100_ATMO['SLEA_SB5'], MPI_SLE2100_ATMO['SLEA_SB6'], MPI_SLE2100_ATMO['SLEA_SB7'], MPI_SLE2100_ATMO['SLEA_SB8'], MPI_SLE2100_ATMO['SLEA_SB9'], MPI_SLE2100_ATMO['SLEA_SB10'], MPI_SLE2100_ATMO['SLEA_SB11'], MPI_SLE2100_ATMO['SLEA_SB12'], MPI_SLE2100_ATMO['SLEA_SB13'], MPI_SLE2100_ATMO['SLEA_SB14'], MPI_SLE2100_ATMO['SLEA_SB15'], MPI_SLE2100_ATMO['SLEA_SB16'], MPI_SLE2100_ATMO['SLEA_SB17'], MPI_SLE2100_ATMO['SLEA_SB18']]\n",
    "\n",
    "data_tot_uk = [UKESM_SLE2100_TOT['SLEtot_SB1']*1e2, UKESM_SLE2100_TOT['SLEtot_SB2']*1e2, UKESM_SLE2100_TOT['SLEtot_SB3']*1e2, UKESM_SLE2100_TOT['SLEtot_SB4']*1e2, UKESM_SLE2100_TOT['SLEtot_SB5']*1e2, UKESM_SLE2100_TOT['SLEtot_SB6']*1e2, UKESM_SLE2100_TOT['SLEtot_SB7']*1e2, UKESM_SLE2100_TOT['SLEtot_SB8']*1e2, UKESM_SLE2100_TOT['SLEtot_SB9']*1e2, UKESM_SLE2100_TOT['SLEtot_SB10']*1e2, UKESM_SLE2100_TOT['SLEtot_SB11']*1e2, UKESM_SLE2100_TOT['SLEtot_SB12']*1e2, UKESM_SLE2100_TOT['SLEtot_SB13']*1e2, UKESM_SLE2100_TOT['SLEtot_SB14']*1e2, UKESM_SLE2100_TOT['SLEtot_SB15']*1e2, UKESM_SLE2100_TOT['SLEtot_SB16']*1e2, UKESM_SLE2100_TOT['SLEtot_SB17']*1e2, UKESM_SLE2100_TOT['SLEtot_SB18']*1e2]\n",
    "data_oc_uk = [UKESM_SLE2100_OC['SLEO_SB1']*1e2, UKESM_SLE2100_OC['SLEO_SB2']*1e2, UKESM_SLE2100_OC['SLEO_SB3']*1e2, UKESM_SLE2100_OC['SLEO_SB4']*1e2, UKESM_SLE2100_OC['SLEO_SB5']*1e2, UKESM_SLE2100_OC['SLEO_SB6']*1e2, UKESM_SLE2100_OC['SLEO_SB7']*1e2, UKESM_SLE2100_OC['SLEO_SB8']*1e2, UKESM_SLE2100_OC['SLEO_SB9']*1e2, UKESM_SLE2100_OC['SLEO_SB10']*1e2, UKESM_SLE2100_OC['SLEO_SB11']*1e2, UKESM_SLE2100_OC['SLEO_SB12']*1e2, UKESM_SLE2100_OC['SLEO_SB13']*1e2, UKESM_SLE2100_OC['SLEO_SB14']*1e2, UKESM_SLE2100_OC['SLEO_SB15']*1e2, UKESM_SLE2100_OC['SLEO_SB16']*1e2, UKESM_SLE2100_OC['SLEO_SB17']*1e2, UKESM_SLE2100_OC['SLEO_SB18']*1e2]\n",
    "data_atmo_uk = [UKESM_SLE2100_ATMO['SLEA_SB1']*1e2, UKESM_SLE2100_ATMO['SLEA_SB2']*1e2, UKESM_SLE2100_ATMO['SLEA_SB3']*1e2, UKESM_SLE2100_ATMO['SLEA_SB4']*1e2, UKESM_SLE2100_ATMO['SLEA_SB5']*1e2, UKESM_SLE2100_ATMO['SLEA_SB6']*1e2, UKESM_SLE2100_ATMO['SLEA_SB7']*1e2, UKESM_SLE2100_ATMO['SLEA_SB8']*1e2, UKESM_SLE2100_ATMO['SLEA_SB9']*1e2, UKESM_SLE2100_ATMO['SLEA_SB10']*1e2, UKESM_SLE2100_ATMO['SLEA_SB11']*1e2, UKESM_SLE2100_ATMO['SLEA_SB12']*1e2, UKESM_SLE2100_ATMO['SLEA_SB13']*1e2, UKESM_SLE2100_ATMO['SLEA_SB14']*1e2, UKESM_SLE2100_ATMO['SLEA_SB15']*1e2, UKESM_SLE2100_ATMO['SLEA_SB16']*1e2, UKESM_SLE2100_ATMO['SLEA_SB17']*1e2, UKESM_SLE2100_ATMO['SLEA_SB18']*1e2]\n",
    "\n",
    "data_tot_ip = [IPSL_SLE2100_TOT['SLEtot_SB1']*1e2, IPSL_SLE2100_TOT['SLEtot_SB2']*1e2, IPSL_SLE2100_TOT['SLEtot_SB3']*1e2, IPSL_SLE2100_TOT['SLEtot_SB4']*1e2, IPSL_SLE2100_TOT['SLEtot_SB5']*1e2, IPSL_SLE2100_TOT['SLEtot_SB6']*1e2, IPSL_SLE2100_TOT['SLEtot_SB7']*1e2, IPSL_SLE2100_TOT['SLEtot_SB8']*1e2, IPSL_SLE2100_TOT['SLEtot_SB9']*1e2, IPSL_SLE2100_TOT['SLEtot_SB10']*1e2, IPSL_SLE2100_TOT['SLEtot_SB11']*1e2, IPSL_SLE2100_TOT['SLEtot_SB12']*1e2, IPSL_SLE2100_TOT['SLEtot_SB13']*1e2, IPSL_SLE2100_TOT['SLEtot_SB14']*1e2, IPSL_SLE2100_TOT['SLEtot_SB15']*1e2, IPSL_SLE2100_TOT['SLEtot_SB16']*1e2, IPSL_SLE2100_TOT['SLEtot_SB17']*1e2, IPSL_SLE2100_TOT['SLEtot_SB18']*1e2]\n",
    "data_oc_ip = [IPSL_SLE2100_OC['SLEO_SB1']*1e2, IPSL_SLE2100_OC['SLEO_SB2']*1e2, IPSL_SLE2100_OC['SLEO_SB3']*1e2, IPSL_SLE2100_OC['SLEO_SB4']*1e2, IPSL_SLE2100_OC['SLEO_SB5']*1e2, IPSL_SLE2100_OC['SLEO_SB6']*1e2, IPSL_SLE2100_OC['SLEO_SB7']*1e2, IPSL_SLE2100_OC['SLEO_SB8']*1e2, IPSL_SLE2100_OC['SLEO_SB9']*1e2, IPSL_SLE2100_OC['SLEO_SB10']*1e2, IPSL_SLE2100_OC['SLEO_SB11']*1e2, IPSL_SLE2100_OC['SLEO_SB12']*1e2, IPSL_SLE2100_OC['SLEO_SB13']*1e2, IPSL_SLE2100_OC['SLEO_SB14']*1e2, IPSL_SLE2100_OC['SLEO_SB15']*1e2, IPSL_SLE2100_OC['SLEO_SB16']*1e2, IPSL_SLE2100_OC['SLEO_SB17']*1e2, IPSL_SLE2100_OC['SLEO_SB18']*1e2]\n",
    "data_atmo_ip = [IPSL_SLE2100_ATMO['SLEA_SB1']*1e2, IPSL_SLE2100_ATMO['SLEA_SB2']*1e2, IPSL_SLE2100_ATMO['SLEA_SB3']*1e2, IPSL_SLE2100_ATMO['SLEA_SB4']*1e2, IPSL_SLE2100_ATMO['SLEA_SB5']*1e2, IPSL_SLE2100_ATMO['SLEA_SB6']*1e2, IPSL_SLE2100_ATMO['SLEA_SB7']*1e2, IPSL_SLE2100_ATMO['SLEA_SB8']*1e2, IPSL_SLE2100_ATMO['SLEA_SB9']*1e2, IPSL_SLE2100_ATMO['SLEA_SB10']*1e2, IPSL_SLE2100_ATMO['SLEA_SB11']*1e2, IPSL_SLE2100_ATMO['SLEA_SB12']*1e2, IPSL_SLE2100_ATMO['SLEA_SB13']*1e2, IPSL_SLE2100_ATMO['SLEA_SB14']*1e2, IPSL_SLE2100_ATMO['SLEA_SB15']*1e2, IPSL_SLE2100_ATMO['SLEA_SB16']*1e2, IPSL_SLE2100_ATMO['SLEA_SB17']*1e2, IPSL_SLE2100_ATMO['SLEA_SB18']*1e2]\n",
    "\n",
    "data_tot_mp = [MPI_SLE2100_TOT['SLEtot_SB1']*1e2, MPI_SLE2100_TOT['SLEtot_SB2']*1e2, MPI_SLE2100_TOT['SLEtot_SB3']*1e2, MPI_SLE2100_TOT['SLEtot_SB4']*1e2, MPI_SLE2100_TOT['SLEtot_SB5']*1e2, MPI_SLE2100_TOT['SLEtot_SB6']*1e2, MPI_SLE2100_TOT['SLEtot_SB7']*1e2, MPI_SLE2100_TOT['SLEtot_SB8']*1e2, MPI_SLE2100_TOT['SLEtot_SB9']*1e2, MPI_SLE2100_TOT['SLEtot_SB10']*1e2, MPI_SLE2100_TOT['SLEtot_SB11']*1e2, MPI_SLE2100_TOT['SLEtot_SB12']*1e2, MPI_SLE2100_TOT['SLEtot_SB13']*1e2, MPI_SLE2100_TOT['SLEtot_SB14']*1e2, MPI_SLE2100_TOT['SLEtot_SB15']*1e2, MPI_SLE2100_TOT['SLEtot_SB16']*1e2, MPI_SLE2100_TOT['SLEtot_SB17']*1e2, MPI_SLE2100_TOT['SLEtot_SB18']*1e2]\n",
    "data_oc_mp = [MPI_SLE2100_OC['SLEO_SB1']*1e2, MPI_SLE2100_OC['SLEO_SB2']*1e2, MPI_SLE2100_OC['SLEO_SB3']*1e2, MPI_SLE2100_OC['SLEO_SB4']*1e2, MPI_SLE2100_OC['SLEO_SB5']*1e2, MPI_SLE2100_OC['SLEO_SB6']*1e2, MPI_SLE2100_OC['SLEO_SB7']*1e2, MPI_SLE2100_OC['SLEO_SB8']*1e2, MPI_SLE2100_OC['SLEO_SB9']*1e2, MPI_SLE2100_OC['SLEO_SB10']*1e2, MPI_SLE2100_OC['SLEO_SB11']*1e2, MPI_SLE2100_OC['SLEO_SB12']*1e2, MPI_SLE2100_OC['SLEO_SB13']*1e2, MPI_SLE2100_OC['SLEO_SB14']*1e2, MPI_SLE2100_OC['SLEO_SB15']*1e2, MPI_SLE2100_OC['SLEO_SB16']*1e2, MPI_SLE2100_OC['SLEO_SB17']*1e2, MPI_SLE2100_OC['SLEO_SB18']*1e2]\n",
    "data_atmo_mp = [MPI_SLE2100_ATMO['SLEA_SB1']*1e2, MPI_SLE2100_ATMO['SLEA_SB2']*1e2, MPI_SLE2100_ATMO['SLEA_SB3']*1e2, MPI_SLE2100_ATMO['SLEA_SB4']*1e2, MPI_SLE2100_ATMO['SLEA_SB5']*1e2, MPI_SLE2100_ATMO['SLEA_SB6']*1e2, MPI_SLE2100_ATMO['SLEA_SB7']*1e2, MPI_SLE2100_ATMO['SLEA_SB8']*1e2, MPI_SLE2100_ATMO['SLEA_SB9']*1e2, MPI_SLE2100_ATMO['SLEA_SB10']*1e2, MPI_SLE2100_ATMO['SLEA_SB11']*1e2, MPI_SLE2100_ATMO['SLEA_SB12']*1e2, MPI_SLE2100_ATMO['SLEA_SB13']*1e2, MPI_SLE2100_ATMO['SLEA_SB14']*1e2, MPI_SLE2100_ATMO['SLEA_SB15']*1e2, MPI_SLE2100_ATMO['SLEA_SB16']*1e2, MPI_SLE2100_ATMO['SLEA_SB17']*1e2, MPI_SLE2100_ATMO['SLEA_SB18']*1e2]\n",
    "\n",
    "\n",
    "#data_tot_uk = [UKESM_SLE2100_TOT['SLEtot_B1'], UKESM_SLE2100_TOT['SLEtot_B2'], UKESM_SLE2100_TOT['SLEtot_B3']]\n",
    "#data_oc_uk = [UKESM_SLE2100_OC['SLEO_B1'], UKESM_SLE2100_OC['SLEO_B2'], UKESM_SLE2100_OC['SLEO_B3']]\n",
    "#data_atmo_uk = [UKESM_SLE2100_ATMO['SLEA_B1'], UKESM_SLE2100_ATMO['SLEA_B2'], UKESM_SLE2100_ATMO['SLEA_B3']]\n",
    "\n",
    "#data_tot_ip = [IPSL_SLE2100_TOT['SLEtot_B1'], IPSL_SLE2100_TOT['SLEtot_B2'], IPSL_SLE2100_TOT['SLEtot_B3']]\n",
    "#data_oc_ip = [IPSL_SLE2100_OC['SLEO_B1'], IPSL_SLE2100_OC['SLEO_B2'], IPSL_SLE2100_OC['SLEO_B3']]\n",
    "#data_atmo_ip = [IPSL_SLE2100_ATMO['SLEA_B1'], IPSL_SLE2100_ATMO['SLEA_B2'], IPSL_SLE2100_ATMO['SLEA_B3']]\n",
    "\n",
    "#data_tot_mp = [MPI_SLE2100_TOT['SLEtot_B1'], MPI_SLE2100_TOT['SLEtot_B2'], MPI_SLE2100_TOT['SLEtot_B3']]\n",
    "#data_oc_mp = [MPI_SLE2100_OC['SLEO_B1'], MPI_SLE2100_OC['SLEO_B2'], MPI_SLE2100_OC['SLEO_B3']]\n",
    "#data_atmo_mp = [MPI_SLE2100_ATMO['SLEA_B1'], MPI_SLE2100_ATMO['SLEA_B2'], MPI_SLE2100_ATMO['SLEA_B3']]\n",
    "\n",
    "\n",
    "#calculation of mean\n",
    "list_mean_tot_uk =[]\n",
    "list_mean_tot_ip =[]\n",
    "list_mean_tot_mp =[]\n",
    "list_mean_oc_uk =[]\n",
    "list_mean_oc_ip =[]\n",
    "list_mean_oc_mp =[]\n",
    "list_mean_atmo_uk =[]\n",
    "list_mean_atmo_ip =[]\n",
    "list_mean_atmo_mp =[]\n",
    "\n",
    "for i in data_tot_uk :\n",
    "    list_mean_tot_uk.append(float(i.mean()))\n",
    "for i in data_tot_ip :\n",
    "    list_mean_tot_ip.append(float(i.mean()))\n",
    "for i in data_tot_mp :\n",
    "    list_mean_tot_mp.append(float(i.mean()))\n",
    "for i in data_oc_uk :\n",
    "    list_mean_oc_uk.append(float(i.mean()))\n",
    "for i in data_oc_ip :\n",
    "    list_mean_oc_ip.append(float(i.mean()))\n",
    "for i in data_oc_mp :\n",
    "    list_mean_oc_mp.append(float(i.mean()))\n",
    "for i in data_atmo_uk :\n",
    "    list_mean_atmo_uk.append(float(i.mean()))\n",
    "for i in data_atmo_ip :\n",
    "    list_mean_atmo_ip.append(float(i.mean()))\n",
    "for i in data_atmo_mp :\n",
    "    list_mean_atmo_mp.append(float(i.mean()))"
   ]
  },
  {
   "cell_type": "code",
   "execution_count": 6,
   "id": "45724371",
   "metadata": {},
   "outputs": [
    {
     "data": {
      "image/png": "[encoded data removed]",
      "text/plain": [
       "<Figure size 600x700 with 3 Axes>"
      ]
     },
     "metadata": {
      "image/png": {
       "height": 700,
       "width": 600
      }
     },
     "output_type": "display_data"
    }
   ],
   "source": [
    "sns.set_context('paper')\n",
    "\n",
    "\n",
    "colorsu = ['lightskyblue','lightskyblue', 'lightskyblue', 'lightskyblue', 'lightskyblue', 'lightskyblue', 'lightskyblue','lightskyblue', 'lightskyblue', 'lightskyblue', 'lightskyblue', 'lightskyblue', 'lightskyblue', 'lightskyblue', 'lightskyblue', 'lightskyblue', 'lightskyblue', 'lightskyblue']\n",
    "colorsi = ['mediumorchid', 'mediumorchid', 'mediumorchid', 'mediumorchid', 'mediumorchid', 'mediumorchid', 'mediumorchid', 'mediumorchid', 'mediumorchid', 'mediumorchid', 'mediumorchid', 'mediumorchid', 'mediumorchid', 'mediumorchid', 'mediumorchid', 'mediumorchid', 'mediumorchid', 'mediumorchid']\n",
    "colorsm = ['lightgreen','lightgreen', 'lightgreen', 'lightgreen', 'lightgreen', 'lightgreen', 'lightgreen', 'lightgreen', 'lightgreen', 'lightgreen', 'lightgreen', 'lightgreen', 'lightgreen', 'lightgreen', 'lightgreen', 'lightgreen', 'lightgreen', 'lightgreen']\n",
    "\n",
    "major_ticks = np.arange(1, 19, 1)\n",
    "\n",
    "\n",
    "f = plt.figure(figsize = (6, 7))\n",
    "ax={}\n",
    "nb_rows = 3\n",
    "nb_cols = 1\n",
    "\n",
    "plt.figtext(0.01, 0.83, 'total contribution', verticalalignment='center', rotation=90, fontweight=\"bold\")\n",
    "plt.figtext(0.03, 0.83, '(ocean + atmosphere)', verticalalignment='center', rotation=90, fontweight=\"bold\")\n",
    "plt.figtext(0.01, 0.52, 'dynamical contribution', verticalalignment='center', rotation=90, fontweight=\"bold\")\n",
    "plt.figtext(0.03, 0.52, '(ocean)', verticalalignment='center', rotation=90, fontweight=\"bold\")\n",
    "plt.figtext(0.01, 0.2, 'SMB contribution', verticalalignment='center', rotation=90, fontweight=\"bold\")\n",
    "plt.figtext(0.03, 0.2, '(atmosphere)', verticalalignment='center', rotation=90, fontweight=\"bold\")\n",
    "\n",
    "\n",
    "\n",
    "ax[0] = f.add_subplot(3,1,1)\n",
    "## boxplot for total contribution\n",
    "boxplotu = ax[0].boxplot(x=[group.values for group in data_tot_uk], patch_artist=True, medianprops={'color': 'black'}, widths=0.18, positions=np.arange(1,19,1), whis=(0, 100))\n",
    "boxploti = ax[0].boxplot(x=[group.values for group in data_tot_ip], patch_artist=True, medianprops={'color': 'black'}, widths=0.18, positions=np.arange(0.75,18.75,1), whis=(0, 100)) \n",
    "boxplotm = ax[0].boxplot(x=[group.values for group in data_tot_mp], patch_artist=True, medianprops={'color': 'black'}, widths=0.18, positions=np.arange(1.25,19.25,1), whis=(0, 100))\n",
    "for box, color in zip(boxplotu['boxes'], colorsu):\n",
    "    box.set_facecolor(color)\n",
    "for box, color in zip(boxploti['boxes'], colorsi):\n",
    "    box.set_facecolor(color)\n",
    "for box, color in zip(boxplotm['boxes'], colorsm):\n",
    "    box.set_facecolor(color)\n",
    "ax[0].set_xticks(major_ticks)\n",
    "ax[0].hlines(0, 0, 19, linewidth = 1.2, linestyle='--',colors= 'black')\n",
    "ax[0].set_xlim(0.5,18.5)\n",
    "ax[0].set_ylim(-2,3.5)\n",
    "ax[0].axes.xaxis.set_ticklabels([])\n",
    "ax[0].legend([boxplotu[\"boxes\"][0], boxploti[\"boxes\"][0],boxplotm[\"boxes\"][0]], ['UKESM', 'IPSL', 'MPI'], loc='upper right')\n",
    "for k in np.arange(0,19,2):\n",
    "    ax[0].axvspan(k+0.5, k+1.5, alpha=0.1, color='grey')\n",
    "ax[0].get_xaxis().set_visible(False)\n",
    "\n",
    "\n",
    "ax[1] = f.add_subplot(3,1,2)\n",
    "## boxplot for ocean contribution\n",
    "boxplotou = ax[1].boxplot(x=[group.values for group in data_oc_uk], patch_artist=True, medianprops={'color': 'black'}, widths=0.18, positions=np.arange(1,19,1), whis=(0, 100))\n",
    "boxplotoi = ax[1].boxplot(x=[group.values for group in data_oc_ip], patch_artist=True, medianprops={'color': 'black'}, widths=0.18, positions=np.arange(0.75,18.75,1), whis=(0, 100)) \n",
    "boxplotom = ax[1].boxplot(x=[group.values for group in data_oc_mp], patch_artist=True, medianprops={'color': 'black'}, widths=0.18, positions=np.arange(1.25,19.25,1), whis=(0, 100))\n",
    "for box, color in zip(boxplotou['boxes'], colorsu):\n",
    "    box.set_facecolor(color)\n",
    "for box, color in zip(boxplotoi['boxes'], colorsi):\n",
    "    box.set_facecolor(color)\n",
    "for box, color in zip(boxplotom['boxes'], colorsm):\n",
    "    box.set_facecolor(color)\n",
    "ax[1].set_xticks(major_ticks)\n",
    "ax[1].hlines(0, 0, 19, linewidth = 1.2, linestyle='--',colors= 'black')\n",
    "ax[1].set_xlim(0.5,18.5)\n",
    "ax[1].set_ylim(-2,3.5)\n",
    "ax[1].set_ylabel('Sea Level Contribution SLC (m)')\n",
    "ax[1].axes.xaxis.set_ticklabels([])\n",
    "for k in np.arange(0,19,2):\n",
    "    ax[1].axvspan(k+0.5, k+1.5, alpha=0.1, color='grey')\n",
    "ax[1].get_xaxis().set_visible(False)\n",
    "\n",
    "ax[2] = f.add_subplot(3,1,3)\n",
    "## boxplot for atmosphere contribution\n",
    "boxplotau = ax[2].boxplot(x=[group.values for group in data_atmo_uk], patch_artist=True, medianprops={'color': 'black'}, widths=0.18, positions=np.arange(1,19,1), whis=(0, 100))\n",
    "boxplotai = ax[2].boxplot(x=[group.values for group in data_atmo_ip], patch_artist=True, medianprops={'color': 'black'}, widths=0.18, positions=np.arange(0.75,18.75,1), whis=(0, 100)) \n",
    "boxplotam = ax[2].boxplot(x=[group.values for group in data_atmo_mp], patch_artist=True, medianprops={'color': 'black'}, widths=0.18, positions=np.arange(1.25,19.25,1), whis=(0, 100))\n",
    "for box, color in zip(boxplotau['boxes'], colorsu):\n",
    "    box.set_facecolor(color)\n",
    "for box, color in zip(boxplotai['boxes'], colorsi):\n",
    "    box.set_facecolor(color)\n",
    "for box, color in zip(boxplotam['boxes'], colorsm):\n",
    "    box.set_facecolor(color)\n",
    "ax[2].set_xticks(major_ticks)\n",
    "ax[2].hlines(0, 0, 19, linewidth = 1.2, linestyle='--',colors= 'black')\n",
    "ax[2].set_xlim(0.5,18.5)\n",
    "ax[2].set_ylim(-2,3.5)\n",
    "ax[2].set_xticklabels(np.arange(1,19,1))\n",
    "ax[2].set_xlabel('Drainage basin number (-)')\n",
    "ax[2].grid(axis = 'x')\n",
    "for k in np.arange(0,19,2):\n",
    "    ax[2].axvspan(k+0.5, k+1.5, alpha=0.1, color='grey')\n",
    "ax[2].tick_params(which='minor', bottom=False)\n",
    "\n",
    "ax[0].text(0.01, 0.93, 'a)',transform=ax[0].transAxes, fontweight=\"bold\")\n",
    "ax[1].text(0.01, 0.93, 'b)',transform=ax[1].transAxes, fontweight=\"bold\")\n",
    "ax[2].text(0.01, 0.93, 'c)',transform=ax[2].transAxes, fontweight=\"bold\")\n",
    "\n",
    "# image in the right corner\n",
    "Ant = mpimg.imread('/Users/jcaillet/Documents/Elmer/CMIP6/FIGURES/schema2.png')\n",
    "imagebox = OffsetImage(Ant, zoom=0.095)\n",
    "ab = AnnotationBbox(imagebox, (15.8, 1.75), zorder=10)\n",
    "ax[2].add_artist(ab)\n",
    "\n",
    "plt.tight_layout(rect=[0.05, 0, 1, 1])\n",
    "plt.savefig('/Users/jcaillet/Documents/Elmer/CMIP6/FIGURES/SLE_boxplot_modif.pdf', dpi=300)"
   ]
  },
  {
   "cell_type": "code",
   "execution_count": null,
   "id": "37e34f9a",
   "metadata": {},
   "outputs": [],
   "source": []
  }
 ],
 "metadata": {
  "kernelspec": {
   "display_name": "Python 3 (ipykernel)",
   "language": "python",
   "name": "python3"
  },
  "language_info": {
   "codemirror_mode": {
    "name": "ipython",
    "version": 3
   },
   "file_extension": ".py",
   "mimetype": "text/x-python",
   "name": "python",
   "nbconvert_exporter": "python",
   "pygments_lexer": "ipython3",
   "version": "3.9.13"
  }
 },
 "nbformat": 4,
 "nbformat_minor": 5
}
